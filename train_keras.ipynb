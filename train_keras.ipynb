{
 "cells": [
  {
   "cell_type": "code",
   "execution_count": 10,
   "metadata": {},
   "outputs": [],
   "source": [
    "import pandas as pd\n",
    "import numpy as np\n",
    "import keras\n",
    "from sklearn.model_selection import train_test_split\n",
    "import matplotlib.pyplot as plt\n",
    "import hashlib\n",
    "import math, os\n",
    "from tqdm import tqdm"
   ]
  },
  {
   "cell_type": "code",
   "execution_count": 11,
   "metadata": {},
   "outputs": [],
   "source": [
    "pd.set_option('display.max_columns', 40)"
   ]
  },
  {
   "cell_type": "code",
   "execution_count": 12,
   "metadata": {},
   "outputs": [],
   "source": [
    "# トレーニング用の入力データの選択\n",
    "#X_columns = ['locality', 'age', 'rank', 'leg', 'racing piont', \\\n",
    "#             'S', 'B', 'Nige', 'Maki', 'Sashi', 'Ma', \\\n",
    "#             '1st', '2nd', '3rd', 'Chakugai', 'win', '2ren', '3ren']\n",
    "X_columns = ['1st', '2nd', '3rd', 'Chakugai', 'win', '2ren', '3ren']\n"
   ]
  },
  {
   "cell_type": "markdown",
   "metadata": {},
   "source": [
    "# Define Model"
   ]
  },
  {
   "cell_type": "code",
   "execution_count": 13,
   "metadata": {},
   "outputs": [],
   "source": [
    "from keras.models import Sequential\n",
    "from keras.layers.core import Dense, Dropout, Activation\n",
    "from keras.layers.embeddings import Embedding\n",
    "from keras.layers.recurrent import GRU\n",
    "from keras.optimizers import Adam\n",
    "from keras.layers.normalization import BatchNormalization\n",
    "from keras.models import load_model"
   ]
  },
  {
   "cell_type": "code",
   "execution_count": 14,
   "metadata": {},
   "outputs": [],
   "source": [
    "n_in = len(X_columns) * 9\n",
    "n_out = 9\n",
    "n_hidden = 1024"
   ]
  },
  {
   "cell_type": "code",
   "execution_count": 15,
   "metadata": {},
   "outputs": [],
   "source": [
    "model = Sequential()\n",
    "model.add(Dense(n_hidden, input_shape=(n_in, )))\n",
    "model.add(BatchNormalization())\n",
    "model.add(Activation('relu'))\n",
    "model.add(Dropout(0.2))\n",
    "model.add(Dense(n_hidden))\n",
    "model.add(BatchNormalization())\n",
    "model.add(Activation('relu'))\n",
    "model.add(Dropout(0.2))\n",
    "model.add(Dense(n_out))\n",
    "model.add(BatchNormalization())\n",
    "model.add(Activation('softmax'))"
   ]
  },
  {
   "cell_type": "code",
   "execution_count": 16,
   "metadata": {},
   "outputs": [],
   "source": [
    "optimizer = Adam(lr=0.001, beta_1=0.9, beta_2=0.999)\n",
    "model.compile(loss='categorical_crossentropy', optimizer=optimizer)"
   ]
  },
  {
   "cell_type": "code",
   "execution_count": 17,
   "metadata": {},
   "outputs": [],
   "source": [
    "filename = 'model/DNN_model.h5'\n",
    "model.save(filename)"
   ]
  },
  {
   "cell_type": "markdown",
   "metadata": {},
   "source": [
    "# 関数、クラス　定義"
   ]
  },
  {
   "cell_type": "code",
   "execution_count": 18,
   "metadata": {},
   "outputs": [],
   "source": [
    "def get_train_test_data(df_train):\n",
    "    X = []\n",
    "    target = []\n",
    "        \n",
    "    # 各レース毎に\n",
    "    grouped = df_train.groupby(['date', 'place', 'race_num'])\n",
    "    for race_name, group in tqdm(grouped):\n",
    "        #print(race_name)\n",
    "        racer_count = group.shape[0]\n",
    "        # もし、９輪ではないレースは、トレーニングの対象から外す（モデルを固めるため）\n",
    "        if racer_count != 9:\n",
    "            continue\n",
    "        X.append(group[X_columns].values)\n",
    "        target.append(group['target'].values)\n",
    "\n",
    "    X = np.array(X, dtype='float')\n",
    "    X = X.reshape(X.shape[0], X.shape[1] * X.shape[2])\n",
    "    d_ = np.array(target)\n",
    "\n",
    "    X_train, X_test, d_train, d_test = train_test_split(X, d_, test_size = 0.2)\n",
    "\n",
    "    return X_train, X_test, d_train, d_test\n"
   ]
  },
  {
   "cell_type": "markdown",
   "metadata": {},
   "source": [
    "# 学習"
   ]
  },
  {
   "cell_type": "markdown",
   "metadata": {},
   "source": [
    "### 学習データを読み込む"
   ]
  },
  {
   "cell_type": "code",
   "execution_count": 19,
   "metadata": {},
   "outputs": [
    {
     "name": "stderr",
     "output_type": "stream",
     "text": [
      "c:\\users\\ttsuchiy\\appdata\\local\\programs\\python\\python36\\lib\\site-packages\\IPython\\core\\interactiveshell.py:2785: DtypeWarning: Columns (4,10) have mixed types. Specify dtype option on import or set low_memory=False.\n",
      "  interactivity=interactivity, compiler=compiler, result=result)\n"
     ]
    }
   ],
   "source": [
    "df_train = pd.read_csv('df_train.csv')"
   ]
  },
  {
   "cell_type": "code",
   "execution_count": 20,
   "metadata": {},
   "outputs": [
    {
     "name": "stdout",
     "output_type": "stream",
     "text": [
      "Generating Training/Test Data\n"
     ]
    },
    {
     "name": "stderr",
     "output_type": "stream",
     "text": [
      "100%|█████████████████████████████████| 146536/146536 [04:33<00:00, 535.59it/s]\n"
     ]
    }
   ],
   "source": [
    "print(\"Generating Training/Test Data\")\n",
    "X_train, X_test, Y_train, Y_test = get_train_test_data(df_train)"
   ]
  },
  {
   "cell_type": "code",
   "execution_count": 25,
   "metadata": {},
   "outputs": [
    {
     "data": {
      "text/plain": [
       "array([[0.11111111, 0.25      , 0.13888889, ..., 0.16666667, 0.02777778,\n",
       "        0.19444444],\n",
       "       [0.25      , 0.11111111, 0.13888889, ..., 0.22222222, 0.16666667,\n",
       "        0.19444444],\n",
       "       [0.22222222, 0.13888889, 0.16666667, ..., 0.25      , 0.02777778,\n",
       "        0.19444444],\n",
       "       ...,\n",
       "       [0.19444444, 0.11111111, 0.05555556, ..., 0.22222222, 0.08333333,\n",
       "        0.13888889],\n",
       "       [0.25      , 0.19444444, 0.16666667, ..., 0.22222222, 0.13888889,\n",
       "        0.11111111],\n",
       "       [0.13888889, 0.16666667, 0.05555556, ..., 0.02777778, 0.11111111,\n",
       "        0.22222222]])"
      ]
     },
     "execution_count": 25,
     "metadata": {},
     "output_type": "execute_result"
    }
   ],
   "source": [
    "Y_train"
   ]
  },
  {
   "cell_type": "markdown",
   "metadata": {},
   "source": [
    "# Training"
   ]
  },
  {
   "cell_type": "code",
   "execution_count": 23,
   "metadata": {},
   "outputs": [],
   "source": [
    "batch_size = 32\n",
    "epochs = 120"
   ]
  },
  {
   "cell_type": "code",
   "execution_count": 24,
   "metadata": {},
   "outputs": [
    {
     "name": "stdout",
     "output_type": "stream",
     "text": [
      "Training ...\n",
      "Epoch 1/1\n"
     ]
    },
    {
     "name": "stdout",
     "output_type": "stream",
     "text": [
      "10016/75225 [==>...........................] - ETA: 2:55 - loss: 3.329 - ETA: 2:33 - loss: 3.259 - ETA: 2:33 - loss: 3.204 - ETA: 2:31 - loss: 3.142 - ETA: 2:31 - loss: 3.102 - ETA: 2:27 - loss: 3.062 - ETA: 2:29 - loss: 3.023 - ETA: 2:27 - loss: 2.994 - ETA: 2:27 - loss: 2.967 - ETA: 2:26 - loss: 2.946 - ETA: 2:26 - loss: 2.926 - ETA: 2:27 - loss: 2.912 - ETA: 2:27 - loss: 2.898 - ETA: 2:27 - loss: 2.886 - ETA: 2:29 - loss: 2.876 - ETA: 2:31 - loss: 2.867 - ETA: 2:34 - loss: 2.859 - ETA: 2:35 - loss: 2.852 - ETA: 2:37 - loss: 2.845 - ETA: 2:38 - loss: 2.839 - ETA: 2:40 - loss: 2.834 - ETA: 2:40 - loss: 2.829 - ETA: 2:40 - loss: 2.825 - ETA: 2:40 - loss: 2.821 - ETA: 2:40 - loss: 2.817 - ETA: 2:40 - loss: 2.814 - ETA: 2:40 - loss: 2.810 - ETA: 2:40 - loss: 2.807 - ETA: 2:40 - loss: 2.804 - ETA: 2:42 - loss: 2.802 - ETA: 2:41 - loss: 2.799 - ETA: 2:41 - loss: 2.797 - ETA: 2:42 - loss: 2.795 - ETA: 2:42 - loss: 2.793 - ETA: 2:42 - loss: 2.791 - ETA: 2:42 - loss: 2.789 - ETA: 2:42 - loss: 2.787 - ETA: 2:41 - loss: 2.785 - ETA: 2:42 - loss: 2.784 - ETA: 2:42 - loss: 2.782 - ETA: 2:42 - loss: 2.781 - ETA: 2:42 - loss: 2.780 - ETA: 2:41 - loss: 2.778 - ETA: 2:41 - loss: 2.777 - ETA: 2:42 - loss: 2.776 - ETA: 2:45 - loss: 2.775 - ETA: 2:45 - loss: 2.774 - ETA: 2:46 - loss: 2.773 - ETA: 2:46 - loss: 2.772 - ETA: 2:46 - loss: 2.771 - ETA: 2:46 - loss: 2.770 - ETA: 2:46 - loss: 2.769 - ETA: 2:46 - loss: 2.768 - ETA: 2:46 - loss: 2.767 - ETA: 2:46 - loss: 2.766 - ETA: 2:45 - loss: 2.766 - ETA: 2:46 - loss: 2.765 - ETA: 2:45 - loss: 2.764 - ETA: 2:45 - loss: 2.763 - ETA: 2:45 - loss: 2.763 - ETA: 2:45 - loss: 2.762 - ETA: 2:45 - loss: 2.761 - ETA: 2:45 - loss: 2.761 - ETA: 2:45 - loss: 2.760 - ETA: 2:45 - loss: 2.760 - ETA: 2:45 - loss: 2.759 - ETA: 2:45 - loss: 2.758 - ETA: 2:45 - loss: 2.758 - ETA: 2:45 - loss: 2.758 - ETA: 2:45 - loss: 2.757 - ETA: 2:45 - loss: 2.757 - ETA: 2:45 - loss: 2.756 - ETA: 2:45 - loss: 2.755 - ETA: 2:45 - loss: 2.755 - ETA: 2:45 - loss: 2.755 - ETA: 2:45 - loss: 2.754 - ETA: 2:45 - loss: 2.754 - ETA: 2:45 - loss: 2.753 - ETA: 2:45 - loss: 2.753 - ETA: 2:45 - loss: 2.753 - ETA: 2:45 - loss: 2.753 - ETA: 2:45 - loss: 2.752 - ETA: 2:45 - loss: 2.752 - ETA: 2:45 - loss: 2.752 - ETA: 2:44 - loss: 2.751 - ETA: 2:44 - loss: 2.751 - ETA: 2:45 - loss: 2.751 - ETA: 2:44 - loss: 2.750 - ETA: 2:44 - loss: 2.750 - ETA: 2:44 - loss: 2.750 - ETA: 2:44 - loss: 2.749 - ETA: 2:44 - loss: 2.749 - ETA: 2:44 - loss: 2.749 - ETA: 2:44 - loss: 2.748 - ETA: 2:44 - loss: 2.748 - ETA: 2:44 - loss: 2.748 - ETA: 2:44 - loss: 2.748 - ETA: 2:44 - loss: 2.747 - ETA: 2:44 - loss: 2.747 - ETA: 2:44 - loss: 2.747 - ETA: 2:44 - loss: 2.747 - ETA: 2:43 - loss: 2.747 - ETA: 2:43 - loss: 2.746 - ETA: 2:43 - loss: 2.746 - ETA: 2:43 - loss: 2.746 - ETA: 2:43 - loss: 2.746 - ETA: 2:43 - loss: 2.745 - ETA: 2:43 - loss: 2.745 - ETA: 2:43 - loss: 2.745 - ETA: 2:43 - loss: 2.745 - ETA: 2:43 - loss: 2.745 - ETA: 2:43 - loss: 2.744 - ETA: 2:42 - loss: 2.744 - ETA: 2:43 - loss: 2.744 - ETA: 2:42 - loss: 2.744 - ETA: 2:42 - loss: 2.744 - ETA: 2:42 - loss: 2.743 - ETA: 2:42 - loss: 2.743 - ETA: 2:42 - loss: 2.743 - ETA: 2:42 - loss: 2.743 - ETA: 2:42 - loss: 2.743 - ETA: 2:42 - loss: 2.743 - ETA: 2:42 - loss: 2.743 - ETA: 2:42 - loss: 2.743 - ETA: 2:42 - loss: 2.742 - ETA: 2:42 - loss: 2.742 - ETA: 2:42 - loss: 2.742 - ETA: 2:43 - loss: 2.742 - ETA: 2:43 - loss: 2.742 - ETA: 2:43 - loss: 2.742 - ETA: 2:43 - loss: 2.741 - ETA: 2:43 - loss: 2.741 - ETA: 2:43 - loss: 2.741 - ETA: 2:43 - loss: 2.741 - ETA: 2:43 - loss: 2.741 - ETA: 2:43 - loss: 2.741 - ETA: 2:43 - loss: 2.741 - ETA: 2:43 - loss: 2.741 - ETA: 2:43 - loss: 2.740 - ETA: 2:43 - loss: 2.740 - ETA: 2:43 - loss: 2.740 - ETA: 2:43 - loss: 2.740 - ETA: 2:43 - loss: 2.740 - ETA: 2:44 - loss: 2.740 - ETA: 2:44 - loss: 2.740 - ETA: 2:44 - loss: 2.740 - ETA: 2:44 - loss: 2.739 - ETA: 2:44 - loss: 2.739 - ETA: 2:44 - loss: 2.739 - ETA: 2:44 - loss: 2.739 - ETA: 2:44 - loss: 2.739 - ETA: 2:45 - loss: 2.739 - ETA: 2:45 - loss: 2.739 - ETA: 2:45 - loss: 2.739 - ETA: 2:46 - loss: 2.739 - ETA: 2:46 - loss: 2.739 - ETA: 2:46 - loss: 2.738 - ETA: 2:46 - loss: 2.738 - ETA: 2:46 - loss: 2.738 - ETA: 2:46 - loss: 2.738 - ETA: 2:46 - loss: 2.738 - ETA: 2:46 - loss: 2.738 - ETA: 2:46 - loss: 2.738 - ETA: 2:46 - loss: 2.738 - ETA: 2:46 - loss: 2.738 - ETA: 2:46 - loss: 2.737 - ETA: 2:46 - loss: 2.737 - ETA: 2:46 - loss: 2.737 - ETA: 2:46 - loss: 2.737 - ETA: 2:46 - loss: 2.737 - ETA: 2:46 - loss: 2.737 - ETA: 2:46 - loss: 2.737 - ETA: 2:46 - loss: 2.737 - ETA: 2:46 - loss: 2.737 - ETA: 2:46 - loss: 2.737 - ETA: 2:46 - loss: 2.737 - ETA: 2:46 - loss: 2.736 - ETA: 2:46 - loss: 2.736 - ETA: 2:46 - loss: 2.736 - ETA: 2:46 - loss: 2.736 - ETA: 2:46 - loss: 2.736 - ETA: 2:46 - loss: 2.736 - ETA: 2:46 - loss: 2.736 - ETA: 2:46 - loss: 2.736 - ETA: 2:46 - loss: 2.736 - ETA: 2:46 - loss: 2.736 - ETA: 2:46 - loss: 2.736 - ETA: 2:46 - loss: 2.736 - ETA: 2:46 - loss: 2.736 - ETA: 2:45 - loss: 2.736 - ETA: 2:45 - loss: 2.736 - ETA: 2:45 - loss: 2.735 - ETA: 2:45 - loss: 2.735 - ETA: 2:45 - loss: 2.735 - ETA: 2:45 - loss: 2.735 - ETA: 2:44 - loss: 2.735 - ETA: 2:44 - loss: 2.735 - ETA: 2:44 - loss: 2.735 - ETA: 2:44 - loss: 2.735 - ETA: 2:44 - loss: 2.735 - ETA: 2:44 - loss: 2.735 - ETA: 2:44 - loss: 2.735 - ETA: 2:44 - loss: 2.735 - ETA: 2:44 - loss: 2.735 - ETA: 2:44 - loss: 2.735 - ETA: 2:43 - loss: 2.735 - ETA: 2:43 - loss: 2.734 - ETA: 2:43 - loss: 2.734 - ETA: 2:43 - loss: 2.734 - ETA: 2:43 - loss: 2.734 - ETA: 2:43 - loss: 2.734 - ETA: 2:43 - loss: 2.734 - ETA: 2:42 - loss: 2.734 - ETA: 2:42 - loss: 2.734 - ETA: 2:42 - loss: 2.734 - ETA: 2:42 - loss: 2.734 - ETA: 2:42 - loss: 2.734 - ETA: 2:42 - loss: 2.734 - ETA: 2:42 - loss: 2.734 - ETA: 2:42 - loss: 2.734 - ETA: 2:42 - loss: 2.734 - ETA: 2:42 - loss: 2.734 - ETA: 2:42 - loss: 2.734 - ETA: 2:42 - loss: 2.734 - ETA: 2:41 - loss: 2.734 - ETA: 2:41 - loss: 2.734 - ETA: 2:41 - loss: 2.734 - ETA: 2:41 - loss: 2.734 - ETA: 2:41 - loss: 2.734 - ETA: 2:41 - loss: 2.733 - ETA: 2:41 - loss: 2.733 - ETA: 2:41 - loss: 2.733 - ETA: 2:41 - loss: 2.733 - ETA: 2:41 - loss: 2.733 - ETA: 2:41 - loss: 2.733 - ETA: 2:40 - loss: 2.733 - ETA: 2:40 - loss: 2.733 - ETA: 2:40 - loss: 2.733 - ETA: 2:40 - loss: 2.733 - ETA: 2:40 - loss: 2.733 - ETA: 2:40 - loss: 2.733 - ETA: 2:40 - loss: 2.733 - ETA: 2:40 - loss: 2.733 - ETA: 2:40 - loss: 2.733 - ETA: 2:40 - loss: 2.733 - ETA: 2:40 - loss: 2.733 - ETA: 2:40 - loss: 2.733 - ETA: 2:40 - loss: 2.733 - ETA: 2:39 - loss: 2.733 - ETA: 2:39 - loss: 2.733 - ETA: 2:39 - loss: 2.733 - ETA: 2:39 - loss: 2.733 - ETA: 2:39 - loss: 2.732 - ETA: 2:39 - loss: 2.732 - ETA: 2:39 - loss: 2.732 - ETA: 2:39 - loss: 2.732 - ETA: 2:39 - loss: 2.732 - ETA: 2:39 - loss: 2.732 - ETA: 2:38 - loss: 2.732 - ETA: 2:38 - loss: 2.732 - ETA: 2:38 - loss: 2.732 - ETA: 2:38 - loss: 2.732 - ETA: 2:38 - loss: 2.732 - ETA: 2:38 - loss: 2.732 - ETA: 2:38 - loss: 2.732 - ETA: 2:38 - loss: 2.732 - ETA: 2:38 - loss: 2.732 - ETA: 2:37 - loss: 2.732 - ETA: 2:37 - loss: 2.732 - ETA: 2:37 - loss: 2.732 - ETA: 2:37 - loss: 2.732 - ETA: 2:37 - loss: 2.732 - ETA: 2:37 - loss: 2.732 - ETA: 2:37 - loss: 2.732 - ETA: 2:37 - loss: 2.732 - ETA: 2:37 - loss: 2.732 - ETA: 2:37 - loss: 2.732 - ETA: 2:37 - loss: 2.732 - ETA: 2:36 - loss: 2.732 - ETA: 2:36 - loss: 2.732 - ETA: 2:36 - loss: 2.731 - ETA: 2:36 - loss: 2.731 - ETA: 2:36 - loss: 2.731 - ETA: 2:36 - loss: 2.731 - ETA: 2:36 - loss: 2.731 - ETA: 2:36 - loss: 2.731 - ETA: 2:35 - loss: 2.731 - ETA: 2:35 - loss: 2.731 - ETA: 2:35 - loss: 2.731 - ETA: 2:35 - loss: 2.731 - ETA: 2:35 - loss: 2.731 - ETA: 2:35 - loss: 2.731 - ETA: 2:35 - loss: 2.731 - ETA: 2:35 - loss: 2.731 - ETA: 2:35 - loss: 2.731 - ETA: 2:34 - loss: 2.731 - ETA: 2:34 - loss: 2.731 - ETA: 2:34 - loss: 2.731 - ETA: 2:34 - loss: 2.731 - ETA: 2:34 - loss: 2.731 - ETA: 2:34 - loss: 2.731 - ETA: 2:34 - loss: 2.731 - ETA: 2:34 - loss: 2.731 - ETA: 2:34 - loss: 2.731 - ETA: 2:33 - loss: 2.731 - ETA: 2:33 - loss: 2.731 - ETA: 2:33 - loss: 2.731 - ETA: 2:33 - loss: 2.731 - ETA: 2:33 - loss: 2.731 - ETA: 2:33 - loss: 2.731 - ETA: 2:33 - loss: 2.731 - ETA: 2:33 - loss: 2.731 - ETA: 2:33 - loss: 2.7312\b\b\b\b\b\b\b\b\b\b\b\b\b\b\b\b\b\b\b\b\b\b\b\b\b\b\b\b\b\b\b\b\b\b\b\b\b\b\b\b\b\b\b\b\b\b\b\b\b\b\b\b\b\b\b\b\b\b\b\b\b\b\b\b\b\b\b\b\b\b\b"
     ]
    },
    {
     "name": "stdout",
     "output_type": "stream",
     "text": [
      "20064/75225 [=======>......................] - ETA: 2:32 - loss: 2.731 - ETA: 2:32 - loss: 2.731 - ETA: 2:32 - loss: 2.731 - ETA: 2:32 - loss: 2.731 - ETA: 2:32 - loss: 2.731 - ETA: 2:32 - loss: 2.731 - ETA: 2:32 - loss: 2.731 - ETA: 2:32 - loss: 2.730 - ETA: 2:32 - loss: 2.730 - ETA: 2:32 - loss: 2.730 - ETA: 2:32 - loss: 2.730 - ETA: 2:31 - loss: 2.730 - ETA: 2:31 - loss: 2.730 - ETA: 2:31 - loss: 2.730 - ETA: 2:31 - loss: 2.730 - ETA: 2:31 - loss: 2.730 - ETA: 2:31 - loss: 2.730 - ETA: 2:31 - loss: 2.730 - ETA: 2:31 - loss: 2.730 - ETA: 2:31 - loss: 2.730 - ETA: 2:31 - loss: 2.730 - ETA: 2:31 - loss: 2.730 - ETA: 2:31 - loss: 2.730 - ETA: 2:30 - loss: 2.730 - ETA: 2:30 - loss: 2.730 - ETA: 2:30 - loss: 2.730 - ETA: 2:30 - loss: 2.730 - ETA: 2:30 - loss: 2.730 - ETA: 2:30 - loss: 2.730 - ETA: 2:30 - loss: 2.730 - ETA: 2:30 - loss: 2.730 - ETA: 2:30 - loss: 2.730 - ETA: 2:30 - loss: 2.730 - ETA: 2:29 - loss: 2.730 - ETA: 2:29 - loss: 2.730 - ETA: 2:29 - loss: 2.730 - ETA: 2:29 - loss: 2.730 - ETA: 2:29 - loss: 2.730 - ETA: 2:29 - loss: 2.730 - ETA: 2:29 - loss: 2.730 - ETA: 2:29 - loss: 2.730 - ETA: 2:29 - loss: 2.730 - ETA: 2:29 - loss: 2.730 - ETA: 2:29 - loss: 2.730 - ETA: 2:28 - loss: 2.730 - ETA: 2:28 - loss: 2.729 - ETA: 2:28 - loss: 2.729 - ETA: 2:28 - loss: 2.729 - ETA: 2:28 - loss: 2.729 - ETA: 2:28 - loss: 2.729 - ETA: 2:28 - loss: 2.729 - ETA: 2:28 - loss: 2.729 - ETA: 2:28 - loss: 2.729 - ETA: 2:28 - loss: 2.729 - ETA: 2:28 - loss: 2.729 - ETA: 2:28 - loss: 2.729 - ETA: 2:28 - loss: 2.729 - ETA: 2:28 - loss: 2.729 - ETA: 2:28 - loss: 2.729 - ETA: 2:28 - loss: 2.729 - ETA: 2:28 - loss: 2.729 - ETA: 2:27 - loss: 2.729 - ETA: 2:27 - loss: 2.729 - ETA: 2:27 - loss: 2.729 - ETA: 2:27 - loss: 2.729 - ETA: 2:27 - loss: 2.729 - ETA: 2:27 - loss: 2.729 - ETA: 2:27 - loss: 2.729 - ETA: 2:27 - loss: 2.729 - ETA: 2:27 - loss: 2.729 - ETA: 2:27 - loss: 2.729 - ETA: 2:26 - loss: 2.729 - ETA: 2:26 - loss: 2.729 - ETA: 2:26 - loss: 2.729 - ETA: 2:26 - loss: 2.729 - ETA: 2:26 - loss: 2.729 - ETA: 2:26 - loss: 2.729 - ETA: 2:26 - loss: 2.729 - ETA: 2:26 - loss: 2.729 - ETA: 2:26 - loss: 2.729 - ETA: 2:26 - loss: 2.729 - ETA: 2:26 - loss: 2.729 - ETA: 2:26 - loss: 2.729 - ETA: 2:26 - loss: 2.729 - ETA: 2:26 - loss: 2.729 - ETA: 2:25 - loss: 2.729 - ETA: 2:25 - loss: 2.729 - ETA: 2:25 - loss: 2.729 - ETA: 2:25 - loss: 2.729 - ETA: 2:25 - loss: 2.729 - ETA: 2:25 - loss: 2.729 - ETA: 2:25 - loss: 2.729 - ETA: 2:25 - loss: 2.729 - ETA: 2:25 - loss: 2.729 - ETA: 2:25 - loss: 2.729 - ETA: 2:24 - loss: 2.729 - ETA: 2:24 - loss: 2.729 - ETA: 2:24 - loss: 2.729 - ETA: 2:24 - loss: 2.729 - ETA: 2:24 - loss: 2.729 - ETA: 2:24 - loss: 2.729 - ETA: 2:24 - loss: 2.729 - ETA: 2:24 - loss: 2.729 - ETA: 2:24 - loss: 2.729 - ETA: 2:23 - loss: 2.729 - ETA: 2:23 - loss: 2.729 - ETA: 2:23 - loss: 2.728 - ETA: 2:23 - loss: 2.728 - ETA: 2:23 - loss: 2.728 - ETA: 2:23 - loss: 2.728 - ETA: 2:23 - loss: 2.728 - ETA: 2:23 - loss: 2.728 - ETA: 2:23 - loss: 2.728 - ETA: 2:23 - loss: 2.728 - ETA: 2:23 - loss: 2.728 - ETA: 2:22 - loss: 2.728 - ETA: 2:22 - loss: 2.728 - ETA: 2:22 - loss: 2.728 - ETA: 2:22 - loss: 2.728 - ETA: 2:22 - loss: 2.728 - ETA: 2:22 - loss: 2.728 - ETA: 2:22 - loss: 2.728 - ETA: 2:22 - loss: 2.728 - ETA: 2:22 - loss: 2.728 - ETA: 2:22 - loss: 2.728 - ETA: 2:22 - loss: 2.728 - ETA: 2:21 - loss: 2.728 - ETA: 2:21 - loss: 2.728 - ETA: 2:21 - loss: 2.728 - ETA: 2:21 - loss: 2.728 - ETA: 2:21 - loss: 2.728 - ETA: 2:21 - loss: 2.728 - ETA: 2:21 - loss: 2.728 - ETA: 2:21 - loss: 2.728 - ETA: 2:21 - loss: 2.728 - ETA: 2:21 - loss: 2.728 - ETA: 2:21 - loss: 2.728 - ETA: 2:21 - loss: 2.728 - ETA: 2:21 - loss: 2.728 - ETA: 2:20 - loss: 2.728 - ETA: 2:20 - loss: 2.728 - ETA: 2:20 - loss: 2.728 - ETA: 2:20 - loss: 2.728 - ETA: 2:20 - loss: 2.728 - ETA: 2:20 - loss: 2.728 - ETA: 2:20 - loss: 2.728 - ETA: 2:20 - loss: 2.728 - ETA: 2:20 - loss: 2.728 - ETA: 2:20 - loss: 2.728 - ETA: 2:20 - loss: 2.728 - ETA: 2:20 - loss: 2.728 - ETA: 2:20 - loss: 2.728 - ETA: 2:20 - loss: 2.728 - ETA: 2:19 - loss: 2.728 - ETA: 2:19 - loss: 2.728 - ETA: 2:19 - loss: 2.728 - ETA: 2:19 - loss: 2.728 - ETA: 2:19 - loss: 2.728 - ETA: 2:19 - loss: 2.728 - ETA: 2:19 - loss: 2.728 - ETA: 2:19 - loss: 2.728 - ETA: 2:19 - loss: 2.728 - ETA: 2:19 - loss: 2.728 - ETA: 2:19 - loss: 2.728 - ETA: 2:18 - loss: 2.728 - ETA: 2:18 - loss: 2.728 - ETA: 2:18 - loss: 2.728 - ETA: 2:18 - loss: 2.728 - ETA: 2:18 - loss: 2.728 - ETA: 2:18 - loss: 2.728 - ETA: 2:18 - loss: 2.728 - ETA: 2:18 - loss: 2.728 - ETA: 2:18 - loss: 2.728 - ETA: 2:18 - loss: 2.728 - ETA: 2:18 - loss: 2.728 - ETA: 2:18 - loss: 2.728 - ETA: 2:17 - loss: 2.728 - ETA: 2:17 - loss: 2.728 - ETA: 2:17 - loss: 2.728 - ETA: 2:17 - loss: 2.728 - ETA: 2:17 - loss: 2.728 - ETA: 2:17 - loss: 2.727 - ETA: 2:17 - loss: 2.727 - ETA: 2:17 - loss: 2.727 - ETA: 2:17 - loss: 2.727 - ETA: 2:17 - loss: 2.727 - ETA: 2:16 - loss: 2.727 - ETA: 2:16 - loss: 2.727 - ETA: 2:16 - loss: 2.727 - ETA: 2:16 - loss: 2.727 - ETA: 2:16 - loss: 2.727 - ETA: 2:16 - loss: 2.727 - ETA: 2:16 - loss: 2.727 - ETA: 2:16 - loss: 2.727 - ETA: 2:16 - loss: 2.727 - ETA: 2:16 - loss: 2.727 - ETA: 2:16 - loss: 2.727 - ETA: 2:16 - loss: 2.727 - ETA: 2:15 - loss: 2.727 - ETA: 2:15 - loss: 2.727 - ETA: 2:15 - loss: 2.727 - ETA: 2:15 - loss: 2.727 - ETA: 2:15 - loss: 2.727 - ETA: 2:15 - loss: 2.727 - ETA: 2:15 - loss: 2.727 - ETA: 2:15 - loss: 2.727 - ETA: 2:15 - loss: 2.727 - ETA: 2:15 - loss: 2.727 - ETA: 2:15 - loss: 2.727 - ETA: 2:14 - loss: 2.727 - ETA: 2:14 - loss: 2.727 - ETA: 2:14 - loss: 2.727 - ETA: 2:14 - loss: 2.727 - ETA: 2:14 - loss: 2.727 - ETA: 2:14 - loss: 2.727 - ETA: 2:14 - loss: 2.727 - ETA: 2:14 - loss: 2.727 - ETA: 2:14 - loss: 2.727 - ETA: 2:14 - loss: 2.727 - ETA: 2:14 - loss: 2.727 - ETA: 2:14 - loss: 2.727 - ETA: 2:13 - loss: 2.727 - ETA: 2:13 - loss: 2.727 - ETA: 2:13 - loss: 2.727 - ETA: 2:13 - loss: 2.727 - ETA: 2:13 - loss: 2.727 - ETA: 2:13 - loss: 2.727 - ETA: 2:13 - loss: 2.727 - ETA: 2:13 - loss: 2.727 - ETA: 2:13 - loss: 2.727 - ETA: 2:13 - loss: 2.727 - ETA: 2:13 - loss: 2.727 - ETA: 2:12 - loss: 2.727 - ETA: 2:12 - loss: 2.727 - ETA: 2:12 - loss: 2.727 - ETA: 2:12 - loss: 2.727 - ETA: 2:12 - loss: 2.727 - ETA: 2:12 - loss: 2.727 - ETA: 2:12 - loss: 2.727 - ETA: 2:12 - loss: 2.727 - ETA: 2:12 - loss: 2.727 - ETA: 2:12 - loss: 2.727 - ETA: 2:12 - loss: 2.727 - ETA: 2:12 - loss: 2.727 - ETA: 2:12 - loss: 2.727 - ETA: 2:11 - loss: 2.727 - ETA: 2:11 - loss: 2.727 - ETA: 2:11 - loss: 2.727 - ETA: 2:11 - loss: 2.727 - ETA: 2:11 - loss: 2.727 - ETA: 2:11 - loss: 2.727 - ETA: 2:11 - loss: 2.727 - ETA: 2:11 - loss: 2.727 - ETA: 2:11 - loss: 2.727 - ETA: 2:11 - loss: 2.727 - ETA: 2:11 - loss: 2.727 - ETA: 2:11 - loss: 2.727 - ETA: 2:10 - loss: 2.727 - ETA: 2:10 - loss: 2.727 - ETA: 2:10 - loss: 2.727 - ETA: 2:10 - loss: 2.727 - ETA: 2:10 - loss: 2.727 - ETA: 2:10 - loss: 2.727 - ETA: 2:10 - loss: 2.727 - ETA: 2:10 - loss: 2.727 - ETA: 2:10 - loss: 2.727 - ETA: 2:10 - loss: 2.727 - ETA: 2:10 - loss: 2.727 - ETA: 2:10 - loss: 2.727 - ETA: 2:09 - loss: 2.727 - ETA: 2:09 - loss: 2.727 - ETA: 2:09 - loss: 2.727 - ETA: 2:09 - loss: 2.727 - ETA: 2:09 - loss: 2.727 - ETA: 2:09 - loss: 2.727 - ETA: 2:09 - loss: 2.727 - ETA: 2:09 - loss: 2.727 - ETA: 2:09 - loss: 2.727 - ETA: 2:09 - loss: 2.727 - ETA: 2:09 - loss: 2.727 - ETA: 2:09 - loss: 2.727 - ETA: 2:08 - loss: 2.726 - ETA: 2:08 - loss: 2.726 - ETA: 2:08 - loss: 2.726 - ETA: 2:08 - loss: 2.726 - ETA: 2:08 - loss: 2.726 - ETA: 2:08 - loss: 2.726 - ETA: 2:08 - loss: 2.726 - ETA: 2:08 - loss: 2.726 - ETA: 2:08 - loss: 2.726 - ETA: 2:08 - loss: 2.726 - ETA: 2:08 - loss: 2.726 - ETA: 2:08 - loss: 2.726 - ETA: 2:07 - loss: 2.726 - ETA: 2:07 - loss: 2.726 - ETA: 2:07 - loss: 2.726 - ETA: 2:07 - loss: 2.726 - ETA: 2:07 - loss: 2.726 - ETA: 2:07 - loss: 2.726 - ETA: 2:07 - loss: 2.726 - ETA: 2:07 - loss: 2.726 - ETA: 2:07 - loss: 2.726 - ETA: 2:07 - loss: 2.726 - ETA: 2:07 - loss: 2.726 - ETA: 2:07 - loss: 2.726 - ETA: 2:06 - loss: 2.726 - ETA: 2:06 - loss: 2.726 - ETA: 2:06 - loss: 2.726 - ETA: 2:06 - loss: 2.726 - ETA: 2:06 - loss: 2.726 - ETA: 2:06 - loss: 2.726 - ETA: 2:06 - loss: 2.726 - ETA: 2:06 - loss: 2.726 - ETA: 2:06 - loss: 2.7267"
     ]
    },
    {
     "name": "stdout",
     "output_type": "stream",
     "text": [
      "30112/75225 [===========>..................] - ETA: 2:06 - loss: 2.726 - ETA: 2:06 - loss: 2.726 - ETA: 2:06 - loss: 2.726 - ETA: 2:05 - loss: 2.726 - ETA: 2:05 - loss: 2.726 - ETA: 2:05 - loss: 2.726 - ETA: 2:05 - loss: 2.726 - ETA: 2:05 - loss: 2.726 - ETA: 2:05 - loss: 2.726 - ETA: 2:05 - loss: 2.726 - ETA: 2:05 - loss: 2.726 - ETA: 2:05 - loss: 2.726 - ETA: 2:05 - loss: 2.726 - ETA: 2:05 - loss: 2.726 - ETA: 2:05 - loss: 2.726 - ETA: 2:04 - loss: 2.726 - ETA: 2:04 - loss: 2.726 - ETA: 2:04 - loss: 2.726 - ETA: 2:04 - loss: 2.726 - ETA: 2:04 - loss: 2.726 - ETA: 2:04 - loss: 2.726 - ETA: 2:04 - loss: 2.726 - ETA: 2:04 - loss: 2.726 - ETA: 2:04 - loss: 2.726 - ETA: 2:04 - loss: 2.726 - ETA: 2:04 - loss: 2.726 - ETA: 2:03 - loss: 2.726 - ETA: 2:03 - loss: 2.726 - ETA: 2:03 - loss: 2.726 - ETA: 2:03 - loss: 2.726 - ETA: 2:03 - loss: 2.726 - ETA: 2:03 - loss: 2.726 - ETA: 2:03 - loss: 2.726 - ETA: 2:03 - loss: 2.726 - ETA: 2:03 - loss: 2.726 - ETA: 2:03 - loss: 2.726 - ETA: 2:03 - loss: 2.726 - ETA: 2:03 - loss: 2.726 - ETA: 2:03 - loss: 2.726 - ETA: 2:02 - loss: 2.726 - ETA: 2:02 - loss: 2.726 - ETA: 2:02 - loss: 2.726 - ETA: 2:02 - loss: 2.726 - ETA: 2:02 - loss: 2.726 - ETA: 2:02 - loss: 2.726 - ETA: 2:02 - loss: 2.726 - ETA: 2:02 - loss: 2.726 - ETA: 2:02 - loss: 2.726 - ETA: 2:02 - loss: 2.726 - ETA: 2:02 - loss: 2.726 - ETA: 2:01 - loss: 2.726 - ETA: 2:01 - loss: 2.726 - ETA: 2:01 - loss: 2.726 - ETA: 2:01 - loss: 2.726 - ETA: 2:01 - loss: 2.726 - ETA: 2:01 - loss: 2.726 - ETA: 2:01 - loss: 2.726 - ETA: 2:01 - loss: 2.726 - ETA: 2:01 - loss: 2.726 - ETA: 2:01 - loss: 2.726 - ETA: 2:01 - loss: 2.726 - ETA: 2:00 - loss: 2.726 - ETA: 2:00 - loss: 2.726 - ETA: 2:00 - loss: 2.726 - ETA: 2:00 - loss: 2.726 - ETA: 2:00 - loss: 2.726 - ETA: 2:00 - loss: 2.726 - ETA: 2:00 - loss: 2.726 - ETA: 2:00 - loss: 2.726 - ETA: 2:00 - loss: 2.726 - ETA: 2:00 - loss: 2.726 - ETA: 2:00 - loss: 2.726 - ETA: 1:59 - loss: 2.726 - ETA: 1:59 - loss: 2.726 - ETA: 1:59 - loss: 2.726 - ETA: 1:59 - loss: 2.726 - ETA: 1:59 - loss: 2.726 - ETA: 1:59 - loss: 2.726 - ETA: 1:59 - loss: 2.726 - ETA: 1:59 - loss: 2.726 - ETA: 1:59 - loss: 2.726 - ETA: 1:59 - loss: 2.726 - ETA: 1:59 - loss: 2.726 - ETA: 1:59 - loss: 2.726 - ETA: 1:58 - loss: 2.726 - ETA: 1:58 - loss: 2.726 - ETA: 1:58 - loss: 2.726 - ETA: 1:58 - loss: 2.726 - ETA: 1:58 - loss: 2.726 - ETA: 1:58 - loss: 2.726 - ETA: 1:58 - loss: 2.726 - ETA: 1:58 - loss: 2.726 - ETA: 1:58 - loss: 2.726 - ETA: 1:58 - loss: 2.726 - ETA: 1:58 - loss: 2.726 - ETA: 1:57 - loss: 2.726 - ETA: 1:57 - loss: 2.726 - ETA: 1:57 - loss: 2.726 - ETA: 1:57 - loss: 2.726 - ETA: 1:57 - loss: 2.726 - ETA: 1:57 - loss: 2.726 - ETA: 1:57 - loss: 2.726 - ETA: 1:57 - loss: 2.726 - ETA: 1:57 - loss: 2.726 - ETA: 1:57 - loss: 2.726 - ETA: 1:57 - loss: 2.726 - ETA: 1:56 - loss: 2.726 - ETA: 1:56 - loss: 2.726 - ETA: 1:56 - loss: 2.726 - ETA: 1:56 - loss: 2.726 - ETA: 1:56 - loss: 2.726 - ETA: 1:56 - loss: 2.726 - ETA: 1:56 - loss: 2.726 - ETA: 1:56 - loss: 2.726 - ETA: 1:56 - loss: 2.726 - ETA: 1:56 - loss: 2.726 - ETA: 1:56 - loss: 2.726 - ETA: 1:56 - loss: 2.726 - ETA: 1:55 - loss: 2.726 - ETA: 1:55 - loss: 2.726 - ETA: 1:55 - loss: 2.726 - ETA: 1:55 - loss: 2.725 - ETA: 1:55 - loss: 2.725 - ETA: 1:55 - loss: 2.725 - ETA: 1:55 - loss: 2.725 - ETA: 1:55 - loss: 2.725 - ETA: 1:55 - loss: 2.725 - ETA: 1:55 - loss: 2.725 - ETA: 1:55 - loss: 2.725 - ETA: 1:55 - loss: 2.725 - ETA: 1:54 - loss: 2.725 - ETA: 1:54 - loss: 2.725 - ETA: 1:54 - loss: 2.725 - ETA: 1:54 - loss: 2.725 - ETA: 1:54 - loss: 2.725 - ETA: 1:54 - loss: 2.725 - ETA: 1:54 - loss: 2.725 - ETA: 1:54 - loss: 2.725 - ETA: 1:54 - loss: 2.725 - ETA: 1:54 - loss: 2.725 - ETA: 1:54 - loss: 2.725 - ETA: 1:54 - loss: 2.725 - ETA: 1:53 - loss: 2.725 - ETA: 1:53 - loss: 2.725 - ETA: 1:53 - loss: 2.725 - ETA: 1:53 - loss: 2.725 - ETA: 1:53 - loss: 2.725 - ETA: 1:53 - loss: 2.725 - ETA: 1:53 - loss: 2.725 - ETA: 1:53 - loss: 2.725 - ETA: 1:53 - loss: 2.725 - ETA: 1:53 - loss: 2.725 - ETA: 1:53 - loss: 2.725 - ETA: 1:52 - loss: 2.725 - ETA: 1:52 - loss: 2.725 - ETA: 1:52 - loss: 2.725 - ETA: 1:52 - loss: 2.725 - ETA: 1:52 - loss: 2.725 - ETA: 1:52 - loss: 2.725 - ETA: 1:52 - loss: 2.725 - ETA: 1:52 - loss: 2.725 - ETA: 1:52 - loss: 2.725 - ETA: 1:52 - loss: 2.725 - ETA: 1:52 - loss: 2.725 - ETA: 1:51 - loss: 2.725 - ETA: 1:51 - loss: 2.725 - ETA: 1:51 - loss: 2.725 - ETA: 1:51 - loss: 2.725 - ETA: 1:51 - loss: 2.725 - ETA: 1:51 - loss: 2.725 - ETA: 1:51 - loss: 2.725 - ETA: 1:51 - loss: 2.725 - ETA: 1:51 - loss: 2.725 - ETA: 1:51 - loss: 2.725 - ETA: 1:51 - loss: 2.725 - ETA: 1:51 - loss: 2.725 - ETA: 1:51 - loss: 2.725 - ETA: 1:50 - loss: 2.725 - ETA: 1:50 - loss: 2.725 - ETA: 1:50 - loss: 2.725 - ETA: 1:50 - loss: 2.725 - ETA: 1:50 - loss: 2.725 - ETA: 1:50 - loss: 2.725 - ETA: 1:50 - loss: 2.725 - ETA: 1:50 - loss: 2.725 - ETA: 1:50 - loss: 2.725 - ETA: 1:50 - loss: 2.725 - ETA: 1:50 - loss: 2.725 - ETA: 1:50 - loss: 2.725 - ETA: 1:49 - loss: 2.725 - ETA: 1:49 - loss: 2.725 - ETA: 1:49 - loss: 2.725 - ETA: 1:49 - loss: 2.725 - ETA: 1:49 - loss: 2.725 - ETA: 1:49 - loss: 2.725 - ETA: 1:49 - loss: 2.725 - ETA: 1:49 - loss: 2.725 - ETA: 1:49 - loss: 2.725 - ETA: 1:49 - loss: 2.725 - ETA: 1:49 - loss: 2.725 - ETA: 1:48 - loss: 2.725 - ETA: 1:48 - loss: 2.725 - ETA: 1:48 - loss: 2.725 - ETA: 1:48 - loss: 2.725 - ETA: 1:48 - loss: 2.725 - ETA: 1:48 - loss: 2.725 - ETA: 1:48 - loss: 2.725 - ETA: 1:48 - loss: 2.725 - ETA: 1:48 - loss: 2.725 - ETA: 1:48 - loss: 2.725 - ETA: 1:48 - loss: 2.725 - ETA: 1:48 - loss: 2.725 - ETA: 1:48 - loss: 2.725 - ETA: 1:47 - loss: 2.725 - ETA: 1:47 - loss: 2.725 - ETA: 1:47 - loss: 2.725 - ETA: 1:47 - loss: 2.725 - ETA: 1:47 - loss: 2.725 - ETA: 1:47 - loss: 2.725 - ETA: 1:47 - loss: 2.725 - ETA: 1:47 - loss: 2.725 - ETA: 1:47 - loss: 2.725 - ETA: 1:47 - loss: 2.725 - ETA: 1:47 - loss: 2.725 - ETA: 1:47 - loss: 2.725 - ETA: 1:46 - loss: 2.725 - ETA: 1:46 - loss: 2.725 - ETA: 1:46 - loss: 2.725 - ETA: 1:46 - loss: 2.725 - ETA: 1:46 - loss: 2.725 - ETA: 1:46 - loss: 2.725 - ETA: 1:46 - loss: 2.725 - ETA: 1:46 - loss: 2.725 - ETA: 1:46 - loss: 2.725 - ETA: 1:46 - loss: 2.725 - ETA: 1:46 - loss: 2.725 - ETA: 1:46 - loss: 2.725 - ETA: 1:46 - loss: 2.725 - ETA: 1:45 - loss: 2.725 - ETA: 1:45 - loss: 2.725 - ETA: 1:45 - loss: 2.725 - ETA: 1:45 - loss: 2.725 - ETA: 1:45 - loss: 2.725 - ETA: 1:45 - loss: 2.725 - ETA: 1:45 - loss: 2.725 - ETA: 1:45 - loss: 2.725 - ETA: 1:45 - loss: 2.725 - ETA: 1:45 - loss: 2.725 - ETA: 1:45 - loss: 2.725 - ETA: 1:45 - loss: 2.725 - ETA: 1:44 - loss: 2.725 - ETA: 1:44 - loss: 2.725 - ETA: 1:44 - loss: 2.725 - ETA: 1:44 - loss: 2.725 - ETA: 1:44 - loss: 2.725 - ETA: 1:44 - loss: 2.725 - ETA: 1:44 - loss: 2.725 - ETA: 1:44 - loss: 2.725 - ETA: 1:44 - loss: 2.725 - ETA: 1:44 - loss: 2.725 - ETA: 1:44 - loss: 2.725 - ETA: 1:44 - loss: 2.725 - ETA: 1:44 - loss: 2.725 - ETA: 1:43 - loss: 2.725 - ETA: 1:43 - loss: 2.725 - ETA: 1:43 - loss: 2.725 - ETA: 1:43 - loss: 2.725 - ETA: 1:43 - loss: 2.725 - ETA: 1:43 - loss: 2.725 - ETA: 1:43 - loss: 2.725 - ETA: 1:43 - loss: 2.725 - ETA: 1:43 - loss: 2.725 - ETA: 1:43 - loss: 2.725 - ETA: 1:43 - loss: 2.725 - ETA: 1:43 - loss: 2.725 - ETA: 1:42 - loss: 2.725 - ETA: 1:42 - loss: 2.725 - ETA: 1:42 - loss: 2.725 - ETA: 1:42 - loss: 2.725 - ETA: 1:42 - loss: 2.725 - ETA: 1:42 - loss: 2.725 - ETA: 1:42 - loss: 2.725 - ETA: 1:42 - loss: 2.725 - ETA: 1:42 - loss: 2.725 - ETA: 1:42 - loss: 2.725 - ETA: 1:42 - loss: 2.725 - ETA: 1:42 - loss: 2.725 - ETA: 1:42 - loss: 2.725 - ETA: 1:41 - loss: 2.725 - ETA: 1:41 - loss: 2.725 - ETA: 1:41 - loss: 2.725 - ETA: 1:41 - loss: 2.725 - ETA: 1:41 - loss: 2.725 - ETA: 1:41 - loss: 2.725 - ETA: 1:41 - loss: 2.725 - ETA: 1:41 - loss: 2.725 - ETA: 1:41 - loss: 2.725 - ETA: 1:41 - loss: 2.725 - ETA: 1:41 - loss: 2.725 - ETA: 1:41 - loss: 2.725 - ETA: 1:40 - loss: 2.725 - ETA: 1:40 - loss: 2.725 - ETA: 1:40 - loss: 2.725 - ETA: 1:40 - loss: 2.725 - ETA: 1:40 - loss: 2.725 - ETA: 1:40 - loss: 2.725 - ETA: 1:40 - loss: 2.725 - ETA: 1:40 - loss: 2.725 - ETA: 1:40 - loss: 2.725 - ETA: 1:40 - loss: 2.725 - ETA: 1:40 - loss: 2.725 - ETA: 1:40 - loss: 2.725 - ETA: 1:40 - loss: 2.725 - ETA: 1:39 - loss: 2.7253"
     ]
    },
    {
     "name": "stdout",
     "output_type": "stream",
     "text": [
      "40160/75225 [===============>..............] - ETA: 1:39 - loss: 2.725 - ETA: 1:39 - loss: 2.725 - ETA: 1:39 - loss: 2.725 - ETA: 1:39 - loss: 2.725 - ETA: 1:39 - loss: 2.725 - ETA: 1:39 - loss: 2.725 - ETA: 1:39 - loss: 2.725 - ETA: 1:39 - loss: 2.725 - ETA: 1:39 - loss: 2.725 - ETA: 1:39 - loss: 2.725 - ETA: 1:39 - loss: 2.725 - ETA: 1:39 - loss: 2.725 - ETA: 1:38 - loss: 2.725 - ETA: 1:38 - loss: 2.725 - ETA: 1:38 - loss: 2.725 - ETA: 1:38 - loss: 2.725 - ETA: 1:38 - loss: 2.725 - ETA: 1:38 - loss: 2.725 - ETA: 1:38 - loss: 2.725 - ETA: 1:38 - loss: 2.725 - ETA: 1:38 - loss: 2.725 - ETA: 1:38 - loss: 2.725 - ETA: 1:38 - loss: 2.725 - ETA: 1:38 - loss: 2.725 - ETA: 1:38 - loss: 2.725 - ETA: 1:37 - loss: 2.725 - ETA: 1:37 - loss: 2.725 - ETA: 1:37 - loss: 2.725 - ETA: 1:37 - loss: 2.725 - ETA: 1:37 - loss: 2.725 - ETA: 1:37 - loss: 2.725 - ETA: 1:37 - loss: 2.725 - ETA: 1:37 - loss: 2.725 - ETA: 1:37 - loss: 2.725 - ETA: 1:37 - loss: 2.725 - ETA: 1:37 - loss: 2.725 - ETA: 1:37 - loss: 2.725 - ETA: 1:37 - loss: 2.725 - ETA: 1:36 - loss: 2.725 - ETA: 1:36 - loss: 2.725 - ETA: 1:36 - loss: 2.725 - ETA: 1:36 - loss: 2.725 - ETA: 1:36 - loss: 2.725 - ETA: 1:36 - loss: 2.725 - ETA: 1:36 - loss: 2.725 - ETA: 1:36 - loss: 2.725 - ETA: 1:36 - loss: 2.725 - ETA: 1:36 - loss: 2.725 - ETA: 1:36 - loss: 2.725 - ETA: 1:36 - loss: 2.725 - ETA: 1:36 - loss: 2.725 - ETA: 1:36 - loss: 2.725 - ETA: 1:36 - loss: 2.725 - ETA: 1:35 - loss: 2.725 - ETA: 1:35 - loss: 2.725 - ETA: 1:35 - loss: 2.725 - ETA: 1:35 - loss: 2.725 - ETA: 1:35 - loss: 2.725 - ETA: 1:35 - loss: 2.725 - ETA: 1:35 - loss: 2.725 - ETA: 1:35 - loss: 2.725 - ETA: 1:35 - loss: 2.725 - ETA: 1:35 - loss: 2.725 - ETA: 1:35 - loss: 2.725 - ETA: 1:35 - loss: 2.725 - ETA: 1:35 - loss: 2.725 - ETA: 1:35 - loss: 2.725 - ETA: 1:34 - loss: 2.725 - ETA: 1:34 - loss: 2.725 - ETA: 1:34 - loss: 2.725 - ETA: 1:34 - loss: 2.725 - ETA: 1:34 - loss: 2.725 - ETA: 1:34 - loss: 2.725 - ETA: 1:34 - loss: 2.725 - ETA: 1:34 - loss: 2.725 - ETA: 1:34 - loss: 2.725 - ETA: 1:34 - loss: 2.725 - ETA: 1:34 - loss: 2.725 - ETA: 1:34 - loss: 2.725 - ETA: 1:34 - loss: 2.725 - ETA: 1:33 - loss: 2.725 - ETA: 1:33 - loss: 2.725 - ETA: 1:33 - loss: 2.725 - ETA: 1:33 - loss: 2.725 - ETA: 1:33 - loss: 2.725 - ETA: 1:33 - loss: 2.725 - ETA: 1:33 - loss: 2.725 - ETA: 1:33 - loss: 2.725 - ETA: 1:33 - loss: 2.725 - ETA: 1:33 - loss: 2.725 - ETA: 1:33 - loss: 2.725 - ETA: 1:33 - loss: 2.725 - ETA: 1:33 - loss: 2.725 - ETA: 1:32 - loss: 2.725 - ETA: 1:32 - loss: 2.725 - ETA: 1:32 - loss: 2.725 - ETA: 1:32 - loss: 2.725 - ETA: 1:32 - loss: 2.725 - ETA: 1:32 - loss: 2.725 - ETA: 1:32 - loss: 2.725 - ETA: 1:32 - loss: 2.725 - ETA: 1:32 - loss: 2.725 - ETA: 1:32 - loss: 2.725 - ETA: 1:32 - loss: 2.725 - ETA: 1:32 - loss: 2.725 - ETA: 1:32 - loss: 2.725 - ETA: 1:31 - loss: 2.725 - ETA: 1:31 - loss: 2.725 - ETA: 1:31 - loss: 2.725 - ETA: 1:31 - loss: 2.725 - ETA: 1:31 - loss: 2.725 - ETA: 1:31 - loss: 2.725 - ETA: 1:31 - loss: 2.725 - ETA: 1:31 - loss: 2.725 - ETA: 1:31 - loss: 2.724 - ETA: 1:31 - loss: 2.724 - ETA: 1:31 - loss: 2.725 - ETA: 1:31 - loss: 2.724 - ETA: 1:31 - loss: 2.724 - ETA: 1:31 - loss: 2.724 - ETA: 1:30 - loss: 2.724 - ETA: 1:30 - loss: 2.724 - ETA: 1:30 - loss: 2.724 - ETA: 1:30 - loss: 2.724 - ETA: 1:30 - loss: 2.724 - ETA: 1:30 - loss: 2.724 - ETA: 1:30 - loss: 2.724 - ETA: 1:30 - loss: 2.724 - ETA: 1:30 - loss: 2.724 - ETA: 1:30 - loss: 2.724 - ETA: 1:30 - loss: 2.724 - ETA: 1:30 - loss: 2.724 - ETA: 1:30 - loss: 2.724 - ETA: 1:30 - loss: 2.724 - ETA: 1:29 - loss: 2.724 - ETA: 1:29 - loss: 2.724 - ETA: 1:29 - loss: 2.724 - ETA: 1:29 - loss: 2.724 - ETA: 1:29 - loss: 2.724 - ETA: 1:29 - loss: 2.724 - ETA: 1:29 - loss: 2.724 - ETA: 1:29 - loss: 2.724 - ETA: 1:29 - loss: 2.724 - ETA: 1:29 - loss: 2.724 - ETA: 1:29 - loss: 2.724 - ETA: 1:29 - loss: 2.724 - ETA: 1:29 - loss: 2.724 - ETA: 1:28 - loss: 2.724 - ETA: 1:28 - loss: 2.724 - ETA: 1:28 - loss: 2.724 - ETA: 1:28 - loss: 2.724 - ETA: 1:28 - loss: 2.724 - ETA: 1:28 - loss: 2.724 - ETA: 1:28 - loss: 2.724 - ETA: 1:28 - loss: 2.724 - ETA: 1:28 - loss: 2.724 - ETA: 1:28 - loss: 2.724 - ETA: 1:28 - loss: 2.724 - ETA: 1:28 - loss: 2.724 - ETA: 1:28 - loss: 2.724 - ETA: 1:28 - loss: 2.724 - ETA: 1:27 - loss: 2.724 - ETA: 1:27 - loss: 2.724 - ETA: 1:27 - loss: 2.724 - ETA: 1:27 - loss: 2.724 - ETA: 1:27 - loss: 2.724 - ETA: 1:27 - loss: 2.724 - ETA: 1:27 - loss: 2.724 - ETA: 1:27 - loss: 2.724 - ETA: 1:27 - loss: 2.724 - ETA: 1:27 - loss: 2.724 - ETA: 1:27 - loss: 2.724 - ETA: 1:27 - loss: 2.724 - ETA: 1:27 - loss: 2.724 - ETA: 1:27 - loss: 2.724 - ETA: 1:26 - loss: 2.724 - ETA: 1:26 - loss: 2.724 - ETA: 1:26 - loss: 2.724 - ETA: 1:26 - loss: 2.724 - ETA: 1:26 - loss: 2.724 - ETA: 1:26 - loss: 2.724 - ETA: 1:26 - loss: 2.724 - ETA: 1:26 - loss: 2.724 - ETA: 1:26 - loss: 2.724 - ETA: 1:26 - loss: 2.724 - ETA: 1:26 - loss: 2.724 - ETA: 1:26 - loss: 2.724 - ETA: 1:26 - loss: 2.724 - ETA: 1:25 - loss: 2.724 - ETA: 1:25 - loss: 2.724 - ETA: 1:25 - loss: 2.724 - ETA: 1:25 - loss: 2.724 - ETA: 1:25 - loss: 2.724 - ETA: 1:25 - loss: 2.724 - ETA: 1:25 - loss: 2.724 - ETA: 1:25 - loss: 2.724 - ETA: 1:25 - loss: 2.724 - ETA: 1:25 - loss: 2.724 - ETA: 1:25 - loss: 2.724 - ETA: 1:25 - loss: 2.724 - ETA: 1:25 - loss: 2.724 - ETA: 1:25 - loss: 2.724 - ETA: 1:25 - loss: 2.724 - ETA: 1:24 - loss: 2.724 - ETA: 1:24 - loss: 2.724 - ETA: 1:24 - loss: 2.724 - ETA: 1:24 - loss: 2.724 - ETA: 1:24 - loss: 2.724 - ETA: 1:24 - loss: 2.724 - ETA: 1:24 - loss: 2.724 - ETA: 1:24 - loss: 2.724 - ETA: 1:24 - loss: 2.724 - ETA: 1:24 - loss: 2.724 - ETA: 1:24 - loss: 2.724 - ETA: 1:24 - loss: 2.724 - ETA: 1:24 - loss: 2.724 - ETA: 1:24 - loss: 2.724 - ETA: 1:24 - loss: 2.724 - ETA: 1:23 - loss: 2.724 - ETA: 1:23 - loss: 2.724 - ETA: 1:23 - loss: 2.724 - ETA: 1:23 - loss: 2.724 - ETA: 1:23 - loss: 2.724 - ETA: 1:23 - loss: 2.724 - ETA: 1:23 - loss: 2.724 - ETA: 1:23 - loss: 2.724 - ETA: 1:23 - loss: 2.724 - ETA: 1:23 - loss: 2.724 - ETA: 1:23 - loss: 2.724 - ETA: 1:23 - loss: 2.724 - ETA: 1:23 - loss: 2.724 - ETA: 1:23 - loss: 2.724 - ETA: 1:23 - loss: 2.724 - ETA: 1:22 - loss: 2.724 - ETA: 1:22 - loss: 2.724 - ETA: 1:22 - loss: 2.724 - ETA: 1:22 - loss: 2.724 - ETA: 1:22 - loss: 2.724 - ETA: 1:22 - loss: 2.724 - ETA: 1:22 - loss: 2.724 - ETA: 1:22 - loss: 2.724 - ETA: 1:22 - loss: 2.724 - ETA: 1:22 - loss: 2.724 - ETA: 1:22 - loss: 2.724 - ETA: 1:22 - loss: 2.724 - ETA: 1:22 - loss: 2.724 - ETA: 1:22 - loss: 2.724 - ETA: 1:21 - loss: 2.724 - ETA: 1:21 - loss: 2.724 - ETA: 1:21 - loss: 2.724 - ETA: 1:21 - loss: 2.724 - ETA: 1:21 - loss: 2.724 - ETA: 1:21 - loss: 2.724 - ETA: 1:21 - loss: 2.724 - ETA: 1:21 - loss: 2.724 - ETA: 1:21 - loss: 2.724 - ETA: 1:21 - loss: 2.724 - ETA: 1:21 - loss: 2.724 - ETA: 1:21 - loss: 2.724 - ETA: 1:21 - loss: 2.724 - ETA: 1:21 - loss: 2.724 - ETA: 1:21 - loss: 2.724 - ETA: 1:20 - loss: 2.724 - ETA: 1:20 - loss: 2.724 - ETA: 1:20 - loss: 2.724 - ETA: 1:20 - loss: 2.724 - ETA: 1:20 - loss: 2.724 - ETA: 1:20 - loss: 2.724 - ETA: 1:20 - loss: 2.724 - ETA: 1:20 - loss: 2.724 - ETA: 1:20 - loss: 2.724 - ETA: 1:20 - loss: 2.724 - ETA: 1:20 - loss: 2.724 - ETA: 1:20 - loss: 2.724 - ETA: 1:20 - loss: 2.724 - ETA: 1:20 - loss: 2.724 - ETA: 1:20 - loss: 2.724 - ETA: 1:19 - loss: 2.724 - ETA: 1:19 - loss: 2.724 - ETA: 1:19 - loss: 2.724 - ETA: 1:19 - loss: 2.724 - ETA: 1:19 - loss: 2.724 - ETA: 1:19 - loss: 2.724 - ETA: 1:19 - loss: 2.724 - ETA: 1:19 - loss: 2.724 - ETA: 1:19 - loss: 2.724 - ETA: 1:19 - loss: 2.724 - ETA: 1:19 - loss: 2.724 - ETA: 1:19 - loss: 2.724 - ETA: 1:19 - loss: 2.724 - ETA: 1:18 - loss: 2.724 - ETA: 1:18 - loss: 2.724 - ETA: 1:18 - loss: 2.724 - ETA: 1:18 - loss: 2.724 - ETA: 1:18 - loss: 2.724 - ETA: 1:18 - loss: 2.724 - ETA: 1:18 - loss: 2.724 - ETA: 1:18 - loss: 2.724 - ETA: 1:18 - loss: 2.724 - ETA: 1:18 - loss: 2.724 - ETA: 1:18 - loss: 2.724 - ETA: 1:18 - loss: 2.724 - ETA: 1:18 - loss: 2.724 - ETA: 1:18 - loss: 2.724 - ETA: 1:18 - loss: 2.724 - ETA: 1:17 - loss: 2.724 - ETA: 1:17 - loss: 2.724 - ETA: 1:17 - loss: 2.724 - ETA: 1:17 - loss: 2.724 - ETA: 1:17 - loss: 2.724 - ETA: 1:17 - loss: 2.724 - ETA: 1:17 - loss: 2.724 - ETA: 1:17 - loss: 2.724 - ETA: 1:17 - loss: 2.7245"
     ]
    },
    {
     "name": "stdout",
     "output_type": "stream",
     "text": [
      "50368/75225 [===================>..........] - ETA: 1:17 - loss: 2.724 - ETA: 1:17 - loss: 2.724 - ETA: 1:17 - loss: 2.724 - ETA: 1:17 - loss: 2.724 - ETA: 1:17 - loss: 2.724 - ETA: 1:17 - loss: 2.724 - ETA: 1:16 - loss: 2.724 - ETA: 1:16 - loss: 2.724 - ETA: 1:16 - loss: 2.724 - ETA: 1:16 - loss: 2.724 - ETA: 1:16 - loss: 2.724 - ETA: 1:16 - loss: 2.724 - ETA: 1:16 - loss: 2.724 - ETA: 1:16 - loss: 2.724 - ETA: 1:16 - loss: 2.724 - ETA: 1:16 - loss: 2.724 - ETA: 1:16 - loss: 2.724 - ETA: 1:16 - loss: 2.724 - ETA: 1:16 - loss: 2.724 - ETA: 1:16 - loss: 2.724 - ETA: 1:16 - loss: 2.724 - ETA: 1:15 - loss: 2.724 - ETA: 1:15 - loss: 2.724 - ETA: 1:15 - loss: 2.724 - ETA: 1:15 - loss: 2.724 - ETA: 1:15 - loss: 2.724 - ETA: 1:15 - loss: 2.724 - ETA: 1:15 - loss: 2.724 - ETA: 1:15 - loss: 2.724 - ETA: 1:15 - loss: 2.724 - ETA: 1:15 - loss: 2.724 - ETA: 1:15 - loss: 2.724 - ETA: 1:15 - loss: 2.724 - ETA: 1:15 - loss: 2.724 - ETA: 1:15 - loss: 2.724 - ETA: 1:14 - loss: 2.724 - ETA: 1:14 - loss: 2.724 - ETA: 1:14 - loss: 2.724 - ETA: 1:14 - loss: 2.724 - ETA: 1:14 - loss: 2.724 - ETA: 1:14 - loss: 2.724 - ETA: 1:14 - loss: 2.724 - ETA: 1:14 - loss: 2.724 - ETA: 1:14 - loss: 2.724 - ETA: 1:14 - loss: 2.724 - ETA: 1:14 - loss: 2.724 - ETA: 1:14 - loss: 2.724 - ETA: 1:14 - loss: 2.724 - ETA: 1:13 - loss: 2.724 - ETA: 1:13 - loss: 2.724 - ETA: 1:13 - loss: 2.724 - ETA: 1:13 - loss: 2.724 - ETA: 1:13 - loss: 2.724 - ETA: 1:13 - loss: 2.724 - ETA: 1:13 - loss: 2.724 - ETA: 1:13 - loss: 2.724 - ETA: 1:13 - loss: 2.724 - ETA: 1:13 - loss: 2.724 - ETA: 1:13 - loss: 2.724 - ETA: 1:13 - loss: 2.724 - ETA: 1:13 - loss: 2.724 - ETA: 1:13 - loss: 2.724 - ETA: 1:13 - loss: 2.724 - ETA: 1:12 - loss: 2.724 - ETA: 1:12 - loss: 2.724 - ETA: 1:12 - loss: 2.724 - ETA: 1:12 - loss: 2.724 - ETA: 1:12 - loss: 2.724 - ETA: 1:12 - loss: 2.724 - ETA: 1:12 - loss: 2.724 - ETA: 1:12 - loss: 2.724 - ETA: 1:12 - loss: 2.724 - ETA: 1:12 - loss: 2.724 - ETA: 1:12 - loss: 2.724 - ETA: 1:12 - loss: 2.724 - ETA: 1:12 - loss: 2.724 - ETA: 1:12 - loss: 2.724 - ETA: 1:12 - loss: 2.724 - ETA: 1:11 - loss: 2.724 - ETA: 1:11 - loss: 2.724 - ETA: 1:11 - loss: 2.724 - ETA: 1:11 - loss: 2.724 - ETA: 1:11 - loss: 2.724 - ETA: 1:11 - loss: 2.724 - ETA: 1:11 - loss: 2.724 - ETA: 1:11 - loss: 2.724 - ETA: 1:11 - loss: 2.724 - ETA: 1:11 - loss: 2.724 - ETA: 1:11 - loss: 2.724 - ETA: 1:11 - loss: 2.724 - ETA: 1:11 - loss: 2.724 - ETA: 1:11 - loss: 2.724 - ETA: 1:10 - loss: 2.724 - ETA: 1:10 - loss: 2.724 - ETA: 1:10 - loss: 2.724 - ETA: 1:10 - loss: 2.724 - ETA: 1:10 - loss: 2.724 - ETA: 1:10 - loss: 2.724 - ETA: 1:10 - loss: 2.724 - ETA: 1:10 - loss: 2.724 - ETA: 1:10 - loss: 2.724 - ETA: 1:10 - loss: 2.724 - ETA: 1:10 - loss: 2.724 - ETA: 1:10 - loss: 2.724 - ETA: 1:10 - loss: 2.724 - ETA: 1:10 - loss: 2.724 - ETA: 1:10 - loss: 2.724 - ETA: 1:09 - loss: 2.724 - ETA: 1:09 - loss: 2.724 - ETA: 1:09 - loss: 2.724 - ETA: 1:09 - loss: 2.724 - ETA: 1:09 - loss: 2.724 - ETA: 1:09 - loss: 2.724 - ETA: 1:09 - loss: 2.724 - ETA: 1:09 - loss: 2.724 - ETA: 1:09 - loss: 2.724 - ETA: 1:09 - loss: 2.724 - ETA: 1:09 - loss: 2.724 - ETA: 1:09 - loss: 2.724 - ETA: 1:09 - loss: 2.724 - ETA: 1:09 - loss: 2.724 - ETA: 1:08 - loss: 2.724 - ETA: 1:08 - loss: 2.724 - ETA: 1:08 - loss: 2.724 - ETA: 1:08 - loss: 2.724 - ETA: 1:08 - loss: 2.724 - ETA: 1:08 - loss: 2.724 - ETA: 1:08 - loss: 2.724 - ETA: 1:08 - loss: 2.724 - ETA: 1:08 - loss: 2.724 - ETA: 1:08 - loss: 2.724 - ETA: 1:08 - loss: 2.724 - ETA: 1:08 - loss: 2.724 - ETA: 1:08 - loss: 2.724 - ETA: 1:08 - loss: 2.724 - ETA: 1:07 - loss: 2.724 - ETA: 1:07 - loss: 2.724 - ETA: 1:07 - loss: 2.724 - ETA: 1:07 - loss: 2.724 - ETA: 1:07 - loss: 2.724 - ETA: 1:07 - loss: 2.724 - ETA: 1:07 - loss: 2.724 - ETA: 1:07 - loss: 2.724 - ETA: 1:07 - loss: 2.724 - ETA: 1:07 - loss: 2.724 - ETA: 1:07 - loss: 2.724 - ETA: 1:07 - loss: 2.724 - ETA: 1:07 - loss: 2.724 - ETA: 1:07 - loss: 2.724 - ETA: 1:07 - loss: 2.724 - ETA: 1:06 - loss: 2.724 - ETA: 1:06 - loss: 2.724 - ETA: 1:06 - loss: 2.724 - ETA: 1:06 - loss: 2.724 - ETA: 1:06 - loss: 2.724 - ETA: 1:06 - loss: 2.724 - ETA: 1:06 - loss: 2.724 - ETA: 1:06 - loss: 2.724 - ETA: 1:06 - loss: 2.724 - ETA: 1:06 - loss: 2.724 - ETA: 1:06 - loss: 2.724 - ETA: 1:06 - loss: 2.724 - ETA: 1:06 - loss: 2.724 - ETA: 1:06 - loss: 2.724 - ETA: 1:05 - loss: 2.724 - ETA: 1:05 - loss: 2.724 - ETA: 1:05 - loss: 2.724 - ETA: 1:05 - loss: 2.724 - ETA: 1:05 - loss: 2.724 - ETA: 1:05 - loss: 2.724 - ETA: 1:05 - loss: 2.724 - ETA: 1:05 - loss: 2.724 - ETA: 1:05 - loss: 2.724 - ETA: 1:05 - loss: 2.724 - ETA: 1:05 - loss: 2.724 - ETA: 1:05 - loss: 2.724 - ETA: 1:05 - loss: 2.724 - ETA: 1:05 - loss: 2.724 - ETA: 1:04 - loss: 2.724 - ETA: 1:04 - loss: 2.724 - ETA: 1:04 - loss: 2.724 - ETA: 1:04 - loss: 2.724 - ETA: 1:04 - loss: 2.724 - ETA: 1:04 - loss: 2.724 - ETA: 1:04 - loss: 2.724 - ETA: 1:04 - loss: 2.724 - ETA: 1:04 - loss: 2.724 - ETA: 1:04 - loss: 2.724 - ETA: 1:04 - loss: 2.724 - ETA: 1:04 - loss: 2.724 - ETA: 1:04 - loss: 2.724 - ETA: 1:04 - loss: 2.724 - ETA: 1:03 - loss: 2.724 - ETA: 1:03 - loss: 2.724 - ETA: 1:03 - loss: 2.724 - ETA: 1:03 - loss: 2.724 - ETA: 1:03 - loss: 2.724 - ETA: 1:03 - loss: 2.724 - ETA: 1:03 - loss: 2.724 - ETA: 1:03 - loss: 2.724 - ETA: 1:03 - loss: 2.724 - ETA: 1:03 - loss: 2.724 - ETA: 1:03 - loss: 2.724 - ETA: 1:03 - loss: 2.724 - ETA: 1:03 - loss: 2.724 - ETA: 1:03 - loss: 2.724 - ETA: 1:02 - loss: 2.724 - ETA: 1:02 - loss: 2.724 - ETA: 1:02 - loss: 2.724 - ETA: 1:02 - loss: 2.724 - ETA: 1:02 - loss: 2.724 - ETA: 1:02 - loss: 2.724 - ETA: 1:02 - loss: 2.724 - ETA: 1:02 - loss: 2.724 - ETA: 1:02 - loss: 2.724 - ETA: 1:02 - loss: 2.724 - ETA: 1:02 - loss: 2.724 - ETA: 1:02 - loss: 2.724 - ETA: 1:02 - loss: 2.724 - ETA: 1:02 - loss: 2.724 - ETA: 1:01 - loss: 2.724 - ETA: 1:01 - loss: 2.724 - ETA: 1:01 - loss: 2.724 - ETA: 1:01 - loss: 2.724 - ETA: 1:01 - loss: 2.724 - ETA: 1:01 - loss: 2.724 - ETA: 1:01 - loss: 2.724 - ETA: 1:01 - loss: 2.724 - ETA: 1:01 - loss: 2.724 - ETA: 1:01 - loss: 2.724 - ETA: 1:01 - loss: 2.724 - ETA: 1:01 - loss: 2.724 - ETA: 1:01 - loss: 2.724 - ETA: 1:01 - loss: 2.724 - ETA: 1:00 - loss: 2.724 - ETA: 1:00 - loss: 2.724 - ETA: 1:00 - loss: 2.724 - ETA: 1:00 - loss: 2.724 - ETA: 1:00 - loss: 2.724 - ETA: 1:00 - loss: 2.724 - ETA: 1:00 - loss: 2.724 - ETA: 1:00 - loss: 2.724 - ETA: 1:00 - loss: 2.724 - ETA: 1:00 - loss: 2.724 - ETA: 1:00 - loss: 2.724 - ETA: 1:00 - loss: 2.724 - ETA: 1:00 - loss: 2.724 - ETA: 59s - loss: 2.724 - ETA: 59s - loss: 2.72 - ETA: 59s - loss: 2.72 - ETA: 59s - loss: 2.72 - ETA: 59s - loss: 2.72 - ETA: 59s - loss: 2.72 - ETA: 59s - loss: 2.72 - ETA: 59s - loss: 2.72 - ETA: 59s - loss: 2.72 - ETA: 59s - loss: 2.72 - ETA: 59s - loss: 2.72 - ETA: 59s - loss: 2.72 - ETA: 59s - loss: 2.72 - ETA: 59s - loss: 2.72 - ETA: 58s - loss: 2.72 - ETA: 58s - loss: 2.72 - ETA: 58s - loss: 2.72 - ETA: 58s - loss: 2.72 - ETA: 58s - loss: 2.72 - ETA: 58s - loss: 2.72 - ETA: 58s - loss: 2.72 - ETA: 58s - loss: 2.72 - ETA: 58s - loss: 2.72 - ETA: 58s - loss: 2.72 - ETA: 58s - loss: 2.72 - ETA: 58s - loss: 2.72 - ETA: 58s - loss: 2.72 - ETA: 57s - loss: 2.72 - ETA: 57s - loss: 2.72 - ETA: 57s - loss: 2.72 - ETA: 57s - loss: 2.72 - ETA: 57s - loss: 2.72 - ETA: 57s - loss: 2.72 - ETA: 57s - loss: 2.72 - ETA: 57s - loss: 2.72 - ETA: 57s - loss: 2.72 - ETA: 57s - loss: 2.72 - ETA: 57s - loss: 2.72 - ETA: 57s - loss: 2.72 - ETA: 57s - loss: 2.72 - ETA: 57s - loss: 2.72 - ETA: 56s - loss: 2.72 - ETA: 56s - loss: 2.72 - ETA: 56s - loss: 2.72 - ETA: 56s - loss: 2.72 - ETA: 56s - loss: 2.72 - ETA: 56s - loss: 2.72 - ETA: 56s - loss: 2.72 - ETA: 56s - loss: 2.72 - ETA: 56s - loss: 2.72 - ETA: 56s - loss: 2.72 - ETA: 56s - loss: 2.72 - ETA: 56s - loss: 2.72 - ETA: 56s - loss: 2.72 - ETA: 56s - loss: 2.72 - ETA: 55s - loss: 2.72 - ETA: 55s - loss: 2.72 - ETA: 55s - loss: 2.72 - ETA: 55s - loss: 2.72 - ETA: 55s - loss: 2.72 - ETA: 55s - loss: 2.72 - ETA: 55s - loss: 2.72 - ETA: 55s - loss: 2.72 - ETA: 55s - loss: 2.72 - ETA: 55s - loss: 2.72 - ETA: 55s - loss: 2.72 - ETA: 55s - loss: 2.72 - ETA: 55s - loss: 2.72 - ETA: 55s - loss: 2.72 - ETA: 54s - loss: 2.72 - ETA: 54s - loss: 2.72 - ETA: 54s - loss: 2.7238"
     ]
    },
    {
     "name": "stdout",
     "output_type": "stream",
     "text": [
      "61248/75225 [=======================>......] - ETA: 54s - loss: 2.72 - ETA: 54s - loss: 2.72 - ETA: 54s - loss: 2.72 - ETA: 54s - loss: 2.72 - ETA: 54s - loss: 2.72 - ETA: 54s - loss: 2.72 - ETA: 54s - loss: 2.72 - ETA: 54s - loss: 2.72 - ETA: 54s - loss: 2.72 - ETA: 54s - loss: 2.72 - ETA: 54s - loss: 2.72 - ETA: 53s - loss: 2.72 - ETA: 53s - loss: 2.72 - ETA: 53s - loss: 2.72 - ETA: 53s - loss: 2.72 - ETA: 53s - loss: 2.72 - ETA: 53s - loss: 2.72 - ETA: 53s - loss: 2.72 - ETA: 53s - loss: 2.72 - ETA: 53s - loss: 2.72 - ETA: 53s - loss: 2.72 - ETA: 53s - loss: 2.72 - ETA: 53s - loss: 2.72 - ETA: 53s - loss: 2.72 - ETA: 53s - loss: 2.72 - ETA: 52s - loss: 2.72 - ETA: 52s - loss: 2.72 - ETA: 52s - loss: 2.72 - ETA: 52s - loss: 2.72 - ETA: 52s - loss: 2.72 - ETA: 52s - loss: 2.72 - ETA: 52s - loss: 2.72 - ETA: 52s - loss: 2.72 - ETA: 52s - loss: 2.72 - ETA: 52s - loss: 2.72 - ETA: 52s - loss: 2.72 - ETA: 52s - loss: 2.72 - ETA: 52s - loss: 2.72 - ETA: 51s - loss: 2.72 - ETA: 51s - loss: 2.72 - ETA: 51s - loss: 2.72 - ETA: 51s - loss: 2.72 - ETA: 51s - loss: 2.72 - ETA: 51s - loss: 2.72 - ETA: 51s - loss: 2.72 - ETA: 51s - loss: 2.72 - ETA: 51s - loss: 2.72 - ETA: 51s - loss: 2.72 - ETA: 51s - loss: 2.72 - ETA: 51s - loss: 2.72 - ETA: 51s - loss: 2.72 - ETA: 51s - loss: 2.72 - ETA: 50s - loss: 2.72 - ETA: 50s - loss: 2.72 - ETA: 50s - loss: 2.72 - ETA: 50s - loss: 2.72 - ETA: 50s - loss: 2.72 - ETA: 50s - loss: 2.72 - ETA: 50s - loss: 2.72 - ETA: 50s - loss: 2.72 - ETA: 50s - loss: 2.72 - ETA: 50s - loss: 2.72 - ETA: 50s - loss: 2.72 - ETA: 50s - loss: 2.72 - ETA: 50s - loss: 2.72 - ETA: 50s - loss: 2.72 - ETA: 49s - loss: 2.72 - ETA: 49s - loss: 2.72 - ETA: 49s - loss: 2.72 - ETA: 49s - loss: 2.72 - ETA: 49s - loss: 2.72 - ETA: 49s - loss: 2.72 - ETA: 49s - loss: 2.72 - ETA: 49s - loss: 2.72 - ETA: 49s - loss: 2.72 - ETA: 49s - loss: 2.72 - ETA: 49s - loss: 2.72 - ETA: 49s - loss: 2.72 - ETA: 49s - loss: 2.72 - ETA: 49s - loss: 2.72 - ETA: 48s - loss: 2.72 - ETA: 48s - loss: 2.72 - ETA: 48s - loss: 2.72 - ETA: 48s - loss: 2.72 - ETA: 48s - loss: 2.72 - ETA: 48s - loss: 2.72 - ETA: 48s - loss: 2.72 - ETA: 48s - loss: 2.72 - ETA: 48s - loss: 2.72 - ETA: 48s - loss: 2.72 - ETA: 48s - loss: 2.72 - ETA: 48s - loss: 2.72 - ETA: 48s - loss: 2.72 - ETA: 48s - loss: 2.72 - ETA: 47s - loss: 2.72 - ETA: 47s - loss: 2.72 - ETA: 47s - loss: 2.72 - ETA: 47s - loss: 2.72 - ETA: 47s - loss: 2.72 - ETA: 47s - loss: 2.72 - ETA: 47s - loss: 2.72 - ETA: 47s - loss: 2.72 - ETA: 47s - loss: 2.72 - ETA: 47s - loss: 2.72 - ETA: 47s - loss: 2.72 - ETA: 47s - loss: 2.72 - ETA: 47s - loss: 2.72 - ETA: 47s - loss: 2.72 - ETA: 46s - loss: 2.72 - ETA: 46s - loss: 2.72 - ETA: 46s - loss: 2.72 - ETA: 46s - loss: 2.72 - ETA: 46s - loss: 2.72 - ETA: 46s - loss: 2.72 - ETA: 46s - loss: 2.72 - ETA: 46s - loss: 2.72 - ETA: 46s - loss: 2.72 - ETA: 46s - loss: 2.72 - ETA: 46s - loss: 2.72 - ETA: 46s - loss: 2.72 - ETA: 46s - loss: 2.72 - ETA: 45s - loss: 2.72 - ETA: 45s - loss: 2.72 - ETA: 45s - loss: 2.72 - ETA: 45s - loss: 2.72 - ETA: 45s - loss: 2.72 - ETA: 45s - loss: 2.72 - ETA: 45s - loss: 2.72 - ETA: 45s - loss: 2.72 - ETA: 45s - loss: 2.72 - ETA: 45s - loss: 2.72 - ETA: 45s - loss: 2.72 - ETA: 45s - loss: 2.72 - ETA: 45s - loss: 2.72 - ETA: 45s - loss: 2.72 - ETA: 45s - loss: 2.72 - ETA: 44s - loss: 2.72 - ETA: 44s - loss: 2.72 - ETA: 44s - loss: 2.72 - ETA: 44s - loss: 2.72 - ETA: 44s - loss: 2.72 - ETA: 44s - loss: 2.72 - ETA: 44s - loss: 2.72 - ETA: 44s - loss: 2.72 - ETA: 44s - loss: 2.72 - ETA: 44s - loss: 2.72 - ETA: 44s - loss: 2.72 - ETA: 44s - loss: 2.72 - ETA: 44s - loss: 2.72 - ETA: 44s - loss: 2.72 - ETA: 43s - loss: 2.72 - ETA: 43s - loss: 2.72 - ETA: 43s - loss: 2.72 - ETA: 43s - loss: 2.72 - ETA: 43s - loss: 2.72 - ETA: 43s - loss: 2.72 - ETA: 43s - loss: 2.72 - ETA: 43s - loss: 2.72 - ETA: 43s - loss: 2.72 - ETA: 43s - loss: 2.72 - ETA: 43s - loss: 2.72 - ETA: 43s - loss: 2.72 - ETA: 43s - loss: 2.72 - ETA: 43s - loss: 2.72 - ETA: 42s - loss: 2.72 - ETA: 42s - loss: 2.72 - ETA: 42s - loss: 2.72 - ETA: 42s - loss: 2.72 - ETA: 42s - loss: 2.72 - ETA: 42s - loss: 2.72 - ETA: 42s - loss: 2.72 - ETA: 42s - loss: 2.72 - ETA: 42s - loss: 2.72 - ETA: 42s - loss: 2.72 - ETA: 42s - loss: 2.72 - ETA: 42s - loss: 2.72 - ETA: 42s - loss: 2.72 - ETA: 42s - loss: 2.72 - ETA: 41s - loss: 2.72 - ETA: 41s - loss: 2.72 - ETA: 41s - loss: 2.72 - ETA: 41s - loss: 2.72 - ETA: 41s - loss: 2.72 - ETA: 41s - loss: 2.72 - ETA: 41s - loss: 2.72 - ETA: 41s - loss: 2.72 - ETA: 41s - loss: 2.72 - ETA: 41s - loss: 2.72 - ETA: 41s - loss: 2.72 - ETA: 41s - loss: 2.72 - ETA: 41s - loss: 2.72 - ETA: 41s - loss: 2.72 - ETA: 40s - loss: 2.72 - ETA: 40s - loss: 2.72 - ETA: 40s - loss: 2.72 - ETA: 40s - loss: 2.72 - ETA: 40s - loss: 2.72 - ETA: 40s - loss: 2.72 - ETA: 40s - loss: 2.72 - ETA: 40s - loss: 2.72 - ETA: 40s - loss: 2.72 - ETA: 40s - loss: 2.72 - ETA: 40s - loss: 2.72 - ETA: 40s - loss: 2.72 - ETA: 40s - loss: 2.72 - ETA: 40s - loss: 2.72 - ETA: 39s - loss: 2.72 - ETA: 39s - loss: 2.72 - ETA: 39s - loss: 2.72 - ETA: 39s - loss: 2.72 - ETA: 39s - loss: 2.72 - ETA: 39s - loss: 2.72 - ETA: 39s - loss: 2.72 - ETA: 39s - loss: 2.72 - ETA: 39s - loss: 2.72 - ETA: 39s - loss: 2.72 - ETA: 39s - loss: 2.72 - ETA: 39s - loss: 2.72 - ETA: 39s - loss: 2.72 - ETA: 39s - loss: 2.72 - ETA: 38s - loss: 2.72 - ETA: 38s - loss: 2.72 - ETA: 38s - loss: 2.72 - ETA: 38s - loss: 2.72 - ETA: 38s - loss: 2.72 - ETA: 38s - loss: 2.72 - ETA: 38s - loss: 2.72 - ETA: 38s - loss: 2.72 - ETA: 38s - loss: 2.72 - ETA: 38s - loss: 2.72 - ETA: 38s - loss: 2.72 - ETA: 38s - loss: 2.72 - ETA: 38s - loss: 2.72 - ETA: 38s - loss: 2.72 - ETA: 37s - loss: 2.72 - ETA: 37s - loss: 2.72 - ETA: 37s - loss: 2.72 - ETA: 37s - loss: 2.72 - ETA: 37s - loss: 2.72 - ETA: 37s - loss: 2.72 - ETA: 37s - loss: 2.72 - ETA: 37s - loss: 2.72 - ETA: 37s - loss: 2.72 - ETA: 37s - loss: 2.72 - ETA: 37s - loss: 2.72 - ETA: 37s - loss: 2.72 - ETA: 37s - loss: 2.72 - ETA: 37s - loss: 2.72 - ETA: 37s - loss: 2.72 - ETA: 36s - loss: 2.72 - ETA: 36s - loss: 2.72 - ETA: 36s - loss: 2.72 - ETA: 36s - loss: 2.72 - ETA: 36s - loss: 2.72 - ETA: 36s - loss: 2.72 - ETA: 36s - loss: 2.72 - ETA: 36s - loss: 2.72 - ETA: 36s - loss: 2.72 - ETA: 36s - loss: 2.72 - ETA: 36s - loss: 2.72 - ETA: 36s - loss: 2.72 - ETA: 36s - loss: 2.72 - ETA: 36s - loss: 2.72 - ETA: 35s - loss: 2.72 - ETA: 35s - loss: 2.72 - ETA: 35s - loss: 2.72 - ETA: 35s - loss: 2.72 - ETA: 35s - loss: 2.72 - ETA: 35s - loss: 2.72 - ETA: 35s - loss: 2.72 - ETA: 35s - loss: 2.72 - ETA: 35s - loss: 2.72 - ETA: 35s - loss: 2.72 - ETA: 35s - loss: 2.72 - ETA: 35s - loss: 2.72 - ETA: 35s - loss: 2.72 - ETA: 35s - loss: 2.72 - ETA: 34s - loss: 2.72 - ETA: 34s - loss: 2.72 - ETA: 34s - loss: 2.72 - ETA: 34s - loss: 2.72 - ETA: 34s - loss: 2.72 - ETA: 34s - loss: 2.72 - ETA: 34s - loss: 2.72 - ETA: 34s - loss: 2.72 - ETA: 34s - loss: 2.72 - ETA: 34s - loss: 2.72 - ETA: 34s - loss: 2.72 - ETA: 34s - loss: 2.72 - ETA: 34s - loss: 2.72 - ETA: 34s - loss: 2.72 - ETA: 34s - loss: 2.72 - ETA: 33s - loss: 2.72 - ETA: 33s - loss: 2.72 - ETA: 33s - loss: 2.72 - ETA: 33s - loss: 2.72 - ETA: 33s - loss: 2.72 - ETA: 33s - loss: 2.72 - ETA: 33s - loss: 2.72 - ETA: 33s - loss: 2.72 - ETA: 33s - loss: 2.72 - ETA: 33s - loss: 2.72 - ETA: 33s - loss: 2.72 - ETA: 33s - loss: 2.72 - ETA: 33s - loss: 2.72 - ETA: 33s - loss: 2.72 - ETA: 32s - loss: 2.72 - ETA: 32s - loss: 2.72 - ETA: 32s - loss: 2.72 - ETA: 32s - loss: 2.72 - ETA: 32s - loss: 2.72 - ETA: 32s - loss: 2.72 - ETA: 32s - loss: 2.72 - ETA: 32s - loss: 2.72 - ETA: 32s - loss: 2.72 - ETA: 32s - loss: 2.72 - ETA: 32s - loss: 2.72 - ETA: 32s - loss: 2.72 - ETA: 32s - loss: 2.72 - ETA: 32s - loss: 2.72 - ETA: 32s - loss: 2.72 - ETA: 31s - loss: 2.72 - ETA: 31s - loss: 2.72 - ETA: 31s - loss: 2.72 - ETA: 31s - loss: 2.72 - ETA: 31s - loss: 2.72 - ETA: 31s - loss: 2.72 - ETA: 31s - loss: 2.72 - ETA: 31s - loss: 2.72 - ETA: 31s - loss: 2.72 - ETA: 31s - loss: 2.72 - ETA: 31s - loss: 2.72 - ETA: 31s - loss: 2.72 - ETA: 31s - loss: 2.72 - ETA: 31s - loss: 2.72 - ETA: 30s - loss: 2.72 - ETA: 30s - loss: 2.72 - ETA: 30s - loss: 2.72 - ETA: 30s - loss: 2.72 - ETA: 30s - loss: 2.7236"
     ]
    },
    {
     "name": "stdout",
     "output_type": "stream",
     "text": [
      "72128/75225 [===========================>..] - ETA: 30s - loss: 2.72 - ETA: 30s - loss: 2.72 - ETA: 30s - loss: 2.72 - ETA: 30s - loss: 2.72 - ETA: 30s - loss: 2.72 - ETA: 30s - loss: 2.72 - ETA: 30s - loss: 2.72 - ETA: 30s - loss: 2.72 - ETA: 30s - loss: 2.72 - ETA: 29s - loss: 2.72 - ETA: 29s - loss: 2.72 - ETA: 29s - loss: 2.72 - ETA: 29s - loss: 2.72 - ETA: 29s - loss: 2.72 - ETA: 29s - loss: 2.72 - ETA: 29s - loss: 2.72 - ETA: 29s - loss: 2.72 - ETA: 29s - loss: 2.72 - ETA: 29s - loss: 2.72 - ETA: 29s - loss: 2.72 - ETA: 29s - loss: 2.72 - ETA: 29s - loss: 2.72 - ETA: 29s - loss: 2.72 - ETA: 28s - loss: 2.72 - ETA: 28s - loss: 2.72 - ETA: 28s - loss: 2.72 - ETA: 28s - loss: 2.72 - ETA: 28s - loss: 2.72 - ETA: 28s - loss: 2.72 - ETA: 28s - loss: 2.72 - ETA: 28s - loss: 2.72 - ETA: 28s - loss: 2.72 - ETA: 28s - loss: 2.72 - ETA: 28s - loss: 2.72 - ETA: 28s - loss: 2.72 - ETA: 28s - loss: 2.72 - ETA: 28s - loss: 2.72 - ETA: 27s - loss: 2.72 - ETA: 27s - loss: 2.72 - ETA: 27s - loss: 2.72 - ETA: 27s - loss: 2.72 - ETA: 27s - loss: 2.72 - ETA: 27s - loss: 2.72 - ETA: 27s - loss: 2.72 - ETA: 27s - loss: 2.72 - ETA: 27s - loss: 2.72 - ETA: 27s - loss: 2.72 - ETA: 27s - loss: 2.72 - ETA: 27s - loss: 2.72 - ETA: 27s - loss: 2.72 - ETA: 27s - loss: 2.72 - ETA: 26s - loss: 2.72 - ETA: 26s - loss: 2.72 - ETA: 26s - loss: 2.72 - ETA: 26s - loss: 2.72 - ETA: 26s - loss: 2.72 - ETA: 26s - loss: 2.72 - ETA: 26s - loss: 2.72 - ETA: 26s - loss: 2.72 - ETA: 26s - loss: 2.72 - ETA: 26s - loss: 2.72 - ETA: 26s - loss: 2.72 - ETA: 26s - loss: 2.72 - ETA: 26s - loss: 2.72 - ETA: 26s - loss: 2.72 - ETA: 25s - loss: 2.72 - ETA: 25s - loss: 2.72 - ETA: 25s - loss: 2.72 - ETA: 25s - loss: 2.72 - ETA: 25s - loss: 2.72 - ETA: 25s - loss: 2.72 - ETA: 25s - loss: 2.72 - ETA: 25s - loss: 2.72 - ETA: 25s - loss: 2.72 - ETA: 25s - loss: 2.72 - ETA: 25s - loss: 2.72 - ETA: 25s - loss: 2.72 - ETA: 25s - loss: 2.72 - ETA: 25s - loss: 2.72 - ETA: 25s - loss: 2.72 - ETA: 24s - loss: 2.72 - ETA: 24s - loss: 2.72 - ETA: 24s - loss: 2.72 - ETA: 24s - loss: 2.72 - ETA: 24s - loss: 2.72 - ETA: 24s - loss: 2.72 - ETA: 24s - loss: 2.72 - ETA: 24s - loss: 2.72 - ETA: 24s - loss: 2.72 - ETA: 24s - loss: 2.72 - ETA: 24s - loss: 2.72 - ETA: 24s - loss: 2.72 - ETA: 24s - loss: 2.72 - ETA: 24s - loss: 2.72 - ETA: 23s - loss: 2.72 - ETA: 23s - loss: 2.72 - ETA: 23s - loss: 2.72 - ETA: 23s - loss: 2.72 - ETA: 23s - loss: 2.72 - ETA: 23s - loss: 2.72 - ETA: 23s - loss: 2.72 - ETA: 23s - loss: 2.72 - ETA: 23s - loss: 2.72 - ETA: 23s - loss: 2.72 - ETA: 23s - loss: 2.72 - ETA: 23s - loss: 2.72 - ETA: 23s - loss: 2.72 - ETA: 23s - loss: 2.72 - ETA: 22s - loss: 2.72 - ETA: 22s - loss: 2.72 - ETA: 22s - loss: 2.72 - ETA: 22s - loss: 2.72 - ETA: 22s - loss: 2.72 - ETA: 22s - loss: 2.72 - ETA: 22s - loss: 2.72 - ETA: 22s - loss: 2.72 - ETA: 22s - loss: 2.72 - ETA: 22s - loss: 2.72 - ETA: 22s - loss: 2.72 - ETA: 22s - loss: 2.72 - ETA: 22s - loss: 2.72 - ETA: 22s - loss: 2.72 - ETA: 21s - loss: 2.72 - ETA: 21s - loss: 2.72 - ETA: 21s - loss: 2.72 - ETA: 21s - loss: 2.72 - ETA: 21s - loss: 2.72 - ETA: 21s - loss: 2.72 - ETA: 21s - loss: 2.72 - ETA: 21s - loss: 2.72 - ETA: 21s - loss: 2.72 - ETA: 21s - loss: 2.72 - ETA: 21s - loss: 2.72 - ETA: 21s - loss: 2.72 - ETA: 21s - loss: 2.72 - ETA: 21s - loss: 2.72 - ETA: 21s - loss: 2.72 - ETA: 20s - loss: 2.72 - ETA: 20s - loss: 2.72 - ETA: 20s - loss: 2.72 - ETA: 20s - loss: 2.72 - ETA: 20s - loss: 2.72 - ETA: 20s - loss: 2.72 - ETA: 20s - loss: 2.72 - ETA: 20s - loss: 2.72 - ETA: 20s - loss: 2.72 - ETA: 20s - loss: 2.72 - ETA: 20s - loss: 2.72 - ETA: 20s - loss: 2.72 - ETA: 20s - loss: 2.72 - ETA: 20s - loss: 2.72 - ETA: 19s - loss: 2.72 - ETA: 19s - loss: 2.72 - ETA: 19s - loss: 2.72 - ETA: 19s - loss: 2.72 - ETA: 19s - loss: 2.72 - ETA: 19s - loss: 2.72 - ETA: 19s - loss: 2.72 - ETA: 19s - loss: 2.72 - ETA: 19s - loss: 2.72 - ETA: 19s - loss: 2.72 - ETA: 19s - loss: 2.72 - ETA: 19s - loss: 2.72 - ETA: 19s - loss: 2.72 - ETA: 19s - loss: 2.72 - ETA: 18s - loss: 2.72 - ETA: 18s - loss: 2.72 - ETA: 18s - loss: 2.72 - ETA: 18s - loss: 2.72 - ETA: 18s - loss: 2.72 - ETA: 18s - loss: 2.72 - ETA: 18s - loss: 2.72 - ETA: 18s - loss: 2.72 - ETA: 18s - loss: 2.72 - ETA: 18s - loss: 2.72 - ETA: 18s - loss: 2.72 - ETA: 18s - loss: 2.72 - ETA: 18s - loss: 2.72 - ETA: 18s - loss: 2.72 - ETA: 17s - loss: 2.72 - ETA: 17s - loss: 2.72 - ETA: 17s - loss: 2.72 - ETA: 17s - loss: 2.72 - ETA: 17s - loss: 2.72 - ETA: 17s - loss: 2.72 - ETA: 17s - loss: 2.72 - ETA: 17s - loss: 2.72 - ETA: 17s - loss: 2.72 - ETA: 17s - loss: 2.72 - ETA: 17s - loss: 2.72 - ETA: 17s - loss: 2.72 - ETA: 17s - loss: 2.72 - ETA: 17s - loss: 2.72 - ETA: 17s - loss: 2.72 - ETA: 16s - loss: 2.72 - ETA: 16s - loss: 2.72 - ETA: 16s - loss: 2.72 - ETA: 16s - loss: 2.72 - ETA: 16s - loss: 2.72 - ETA: 16s - loss: 2.72 - ETA: 16s - loss: 2.72 - ETA: 16s - loss: 2.72 - ETA: 16s - loss: 2.72 - ETA: 16s - loss: 2.72 - ETA: 16s - loss: 2.72 - ETA: 16s - loss: 2.72 - ETA: 16s - loss: 2.72 - ETA: 16s - loss: 2.72 - ETA: 15s - loss: 2.72 - ETA: 15s - loss: 2.72 - ETA: 15s - loss: 2.72 - ETA: 15s - loss: 2.72 - ETA: 15s - loss: 2.72 - ETA: 15s - loss: 2.72 - ETA: 15s - loss: 2.72 - ETA: 15s - loss: 2.72 - ETA: 15s - loss: 2.72 - ETA: 15s - loss: 2.72 - ETA: 15s - loss: 2.72 - ETA: 15s - loss: 2.72 - ETA: 15s - loss: 2.72 - ETA: 15s - loss: 2.72 - ETA: 14s - loss: 2.72 - ETA: 14s - loss: 2.72 - ETA: 14s - loss: 2.72 - ETA: 14s - loss: 2.72 - ETA: 14s - loss: 2.72 - ETA: 14s - loss: 2.72 - ETA: 14s - loss: 2.72 - ETA: 14s - loss: 2.72 - ETA: 14s - loss: 2.72 - ETA: 14s - loss: 2.72 - ETA: 14s - loss: 2.72 - ETA: 14s - loss: 2.72 - ETA: 14s - loss: 2.72 - ETA: 14s - loss: 2.72 - ETA: 14s - loss: 2.72 - ETA: 13s - loss: 2.72 - ETA: 13s - loss: 2.72 - ETA: 13s - loss: 2.72 - ETA: 13s - loss: 2.72 - ETA: 13s - loss: 2.72 - ETA: 13s - loss: 2.72 - ETA: 13s - loss: 2.72 - ETA: 13s - loss: 2.72 - ETA: 13s - loss: 2.72 - ETA: 13s - loss: 2.72 - ETA: 13s - loss: 2.72 - ETA: 13s - loss: 2.72 - ETA: 13s - loss: 2.72 - ETA: 13s - loss: 2.72 - ETA: 12s - loss: 2.72 - ETA: 12s - loss: 2.72 - ETA: 12s - loss: 2.72 - ETA: 12s - loss: 2.72 - ETA: 12s - loss: 2.72 - ETA: 12s - loss: 2.72 - ETA: 12s - loss: 2.72 - ETA: 12s - loss: 2.72 - ETA: 12s - loss: 2.72 - ETA: 12s - loss: 2.72 - ETA: 12s - loss: 2.72 - ETA: 12s - loss: 2.72 - ETA: 12s - loss: 2.72 - ETA: 12s - loss: 2.72 - ETA: 11s - loss: 2.72 - ETA: 11s - loss: 2.72 - ETA: 11s - loss: 2.72 - ETA: 11s - loss: 2.72 - ETA: 11s - loss: 2.72 - ETA: 11s - loss: 2.72 - ETA: 11s - loss: 2.72 - ETA: 11s - loss: 2.72 - ETA: 11s - loss: 2.72 - ETA: 11s - loss: 2.72 - ETA: 11s - loss: 2.72 - ETA: 11s - loss: 2.72 - ETA: 11s - loss: 2.72 - ETA: 11s - loss: 2.72 - ETA: 10s - loss: 2.72 - ETA: 10s - loss: 2.72 - ETA: 10s - loss: 2.72 - ETA: 10s - loss: 2.72 - ETA: 10s - loss: 2.72 - ETA: 10s - loss: 2.72 - ETA: 10s - loss: 2.72 - ETA: 10s - loss: 2.72 - ETA: 10s - loss: 2.72 - ETA: 10s - loss: 2.72 - ETA: 10s - loss: 2.72 - ETA: 10s - loss: 2.72 - ETA: 10s - loss: 2.72 - ETA: 10s - loss: 2.72 - ETA: 10s - loss: 2.72 - ETA: 9s - loss: 2.7233 - ETA: 9s - loss: 2.723 - ETA: 9s - loss: 2.723 - ETA: 9s - loss: 2.723 - ETA: 9s - loss: 2.723 - ETA: 9s - loss: 2.723 - ETA: 9s - loss: 2.723 - ETA: 9s - loss: 2.723 - ETA: 9s - loss: 2.723 - ETA: 9s - loss: 2.723 - ETA: 9s - loss: 2.723 - ETA: 9s - loss: 2.723 - ETA: 9s - loss: 2.723 - ETA: 9s - loss: 2.723 - ETA: 8s - loss: 2.723 - ETA: 8s - loss: 2.723 - ETA: 8s - loss: 2.723 - ETA: 8s - loss: 2.723 - ETA: 8s - loss: 2.723 - ETA: 8s - loss: 2.723 - ETA: 8s - loss: 2.723 - ETA: 8s - loss: 2.723 - ETA: 8s - loss: 2.723 - ETA: 8s - loss: 2.723 - ETA: 8s - loss: 2.723 - ETA: 8s - loss: 2.723 - ETA: 8s - loss: 2.723 - ETA: 8s - loss: 2.723 - ETA: 7s - loss: 2.723 - ETA: 7s - loss: 2.723 - ETA: 7s - loss: 2.723 - ETA: 7s - loss: 2.723 - ETA: 7s - loss: 2.723 - ETA: 7s - loss: 2.723 - ETA: 7s - loss: 2.723 - ETA: 7s - loss: 2.723 - ETA: 7s - loss: 2.723 - ETA: 7s - loss: 2.723 - ETA: 7s - loss: 2.723 - ETA: 7s - loss: 2.723 - ETA: 7s - loss: 2.723 - ETA: 7s - loss: 2.723 - ETA: 6s - loss: 2.723 - ETA: 6s - loss: 2.723 - ETA: 6s - loss: 2.723 - ETA: 6s - loss: 2.7232"
     ]
    },
    {
     "name": "stdout",
     "output_type": "stream",
     "text": [
      "75225/75225 [==============================] - ETA: 6s - loss: 2.723 - ETA: 6s - loss: 2.723 - ETA: 6s - loss: 2.723 - ETA: 6s - loss: 2.723 - ETA: 6s - loss: 2.723 - ETA: 6s - loss: 2.723 - ETA: 6s - loss: 2.723 - ETA: 6s - loss: 2.723 - ETA: 6s - loss: 2.723 - ETA: 6s - loss: 2.723 - ETA: 6s - loss: 2.723 - ETA: 5s - loss: 2.723 - ETA: 5s - loss: 2.723 - ETA: 5s - loss: 2.723 - ETA: 5s - loss: 2.723 - ETA: 5s - loss: 2.723 - ETA: 5s - loss: 2.723 - ETA: 5s - loss: 2.723 - ETA: 5s - loss: 2.723 - ETA: 5s - loss: 2.723 - ETA: 5s - loss: 2.723 - ETA: 5s - loss: 2.723 - ETA: 5s - loss: 2.723 - ETA: 5s - loss: 2.723 - ETA: 5s - loss: 2.723 - ETA: 4s - loss: 2.723 - ETA: 4s - loss: 2.723 - ETA: 4s - loss: 2.723 - ETA: 4s - loss: 2.723 - ETA: 4s - loss: 2.723 - ETA: 4s - loss: 2.723 - ETA: 4s - loss: 2.723 - ETA: 4s - loss: 2.723 - ETA: 4s - loss: 2.723 - ETA: 4s - loss: 2.723 - ETA: 4s - loss: 2.723 - ETA: 4s - loss: 2.723 - ETA: 4s - loss: 2.723 - ETA: 4s - loss: 2.723 - ETA: 3s - loss: 2.723 - ETA: 3s - loss: 2.723 - ETA: 3s - loss: 2.723 - ETA: 3s - loss: 2.723 - ETA: 3s - loss: 2.723 - ETA: 3s - loss: 2.723 - ETA: 3s - loss: 2.723 - ETA: 3s - loss: 2.723 - ETA: 3s - loss: 2.723 - ETA: 3s - loss: 2.723 - ETA: 3s - loss: 2.723 - ETA: 3s - loss: 2.723 - ETA: 3s - loss: 2.723 - ETA: 3s - loss: 2.723 - ETA: 2s - loss: 2.723 - ETA: 2s - loss: 2.723 - ETA: 2s - loss: 2.723 - ETA: 2s - loss: 2.723 - ETA: 2s - loss: 2.723 - ETA: 2s - loss: 2.723 - ETA: 2s - loss: 2.723 - ETA: 2s - loss: 2.723 - ETA: 2s - loss: 2.723 - ETA: 2s - loss: 2.723 - ETA: 2s - loss: 2.723 - ETA: 2s - loss: 2.723 - ETA: 2s - loss: 2.723 - ETA: 2s - loss: 2.723 - ETA: 2s - loss: 2.723 - ETA: 1s - loss: 2.723 - ETA: 1s - loss: 2.723 - ETA: 1s - loss: 2.723 - ETA: 1s - loss: 2.723 - ETA: 1s - loss: 2.723 - ETA: 1s - loss: 2.723 - ETA: 1s - loss: 2.723 - ETA: 1s - loss: 2.723 - ETA: 1s - loss: 2.723 - ETA: 1s - loss: 2.723 - ETA: 1s - loss: 2.723 - ETA: 1s - loss: 2.723 - ETA: 1s - loss: 2.723 - ETA: 1s - loss: 2.723 - ETA: 0s - loss: 2.723 - ETA: 0s - loss: 2.723 - ETA: 0s - loss: 2.723 - ETA: 0s - loss: 2.723 - ETA: 0s - loss: 2.723 - ETA: 0s - loss: 2.723 - ETA: 0s - loss: 2.723 - ETA: 0s - loss: 2.723 - ETA: 0s - loss: 2.723 - ETA: 0s - loss: 2.723 - ETA: 0s - loss: 2.723 - ETA: 0s - loss: 2.723 - ETA: 0s - loss: 2.723 - ETA: 0s - loss: 2.723 - 165s 2ms/step - loss: 2.7231\n",
      "18807/18807 [==============================] - ETA: 4: - ETA: 40s - ETA: 31 - ETA: 21 - ETA: 18 - ETA: 17 - ETA: 15 - ETA: 14 - ETA: 13 - ETA: 12 - ETA: 12 - ETA: 11 - ETA: 11 - ETA: 10 - ETA: 10 - ETA: 10 - ETA: 9 - ETA:  - ETA:  - ETA:  - ETA:  - ETA:  - ETA:  - ETA:  - ETA:  - ETA:  - ETA:  - ETA:  - ETA:  - ETA:  - ETA:  - ETA:  - ETA:  - ETA:  - ETA:  - ETA:  - ETA:  - ETA:  - ETA:  - ETA:  - ETA:  - ETA:  - ETA:  - ETA:  - ETA:  - ETA:  - ETA:  - ETA:  - ETA:  - ETA:  - ETA:  - ETA:  - ETA:  - ETA:  - ETA:  - ETA:  - ETA:  - ETA:  - ETA:  - ETA:  - ETA:  - ETA:  - ETA:  - ETA:  - ETA:  - ETA:  - ETA:  - ETA:  - ETA:  - ETA:  - ETA:  - ETA:  - ETA:  - ETA:  - ETA:  - ETA:  - ETA:  - ETA:  - ETA:  - ETA:  - ETA:  - ETA:  - ETA:  - ETA:  - ETA:  - ETA:  - ETA:  - ETA:  - ETA:  - ETA:  - ETA:  - ETA:  - ETA:  - ETA:  - ETA:  - ETA:  - ETA:  - ETA:  - ETA:  - ETA:  - ETA:  - ETA:  - ETA:  - ETA:  - ETA:  - ETA:  - ETA:  - ETA:  - ETA:  - ETA:  - ETA:  - ETA:  - ETA:  - 7s 354us/step\n",
      "2.721455734058919\n"
     ]
    }
   ],
   "source": [
    "print(\"Training ...\")\n",
    "model.fit(X_train, Y_train, epochs = epochs, batch_size=batch_size)\n",
    "\n",
    "loss_and_metrics = model.evaluate(X_test, Y_test)\n",
    "print(loss_and_metrics)\n",
    "\n",
    "model.save(filename)\n"
   ]
  },
  {
   "cell_type": "code",
   "execution_count": null,
   "metadata": {},
   "outputs": [],
   "source": []
  },
  {
   "cell_type": "code",
   "execution_count": null,
   "metadata": {},
   "outputs": [],
   "source": []
  },
  {
   "cell_type": "code",
   "execution_count": null,
   "metadata": {},
   "outputs": [],
   "source": []
  }
 ],
 "metadata": {
  "kernelspec": {
   "display_name": "Python 3",
   "language": "python",
   "name": "python3"
  },
  "language_info": {
   "codemirror_mode": {
    "name": "ipython",
    "version": 3
   },
   "file_extension": ".py",
   "mimetype": "text/x-python",
   "name": "python",
   "nbconvert_exporter": "python",
   "pygments_lexer": "ipython3",
   "version": "3.6.5"
  }
 },
 "nbformat": 4,
 "nbformat_minor": 2
}
