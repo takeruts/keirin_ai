{
 "cells": [
  {
   "cell_type": "code",
   "execution_count": 86,
   "metadata": {},
   "outputs": [],
   "source": [
    "import requests\n",
    "from bs4 import BeautifulSoup\n",
    "import numpy as np\n",
    "import pandas as pd\n",
    "import urllib\n",
    "import re\n",
    "import time\n",
    "from datetime import datetime, timedelta\n",
    "from dateutil.relativedelta import relativedelta\n",
    "from pathlib import Path"
   ]
  },
  {
   "cell_type": "code",
   "execution_count": 87,
   "metadata": {},
   "outputs": [],
   "source": [
    "def get_data_url(target_month, place):\n",
    "    year = target_month.strftime(\"%Y\")\n",
    "    month = target_month.strftime(\"%m\")\n",
    "    base = 'https://keirin.kdreams.jp'\n",
    "    baseAdd1 = \"/\" + place + \"/schedule/\" + year + \"/\" + month\n",
    "    url = base + baseAdd1\n",
    "    return urllib.parse.quote_plus(url, \"/:?=&\")"
   ]
  },
  {
   "cell_type": "code",
   "execution_count": 88,
   "metadata": {},
   "outputs": [],
   "source": [
    "def month_span(start_month, end_month):\n",
    "    \"\"\"start_date、end_dateの期間に含まれる日毎のdatetimeオブジェクトを返すジェネレータ\n",
    "    \"\"\"\n",
    "    i = 0\n",
    "    while 1 :\n",
    "        target_month = start_month + relativedelta(months=i)\n",
    "        if target_month > end_month: break\n",
    "        yield target_month\n",
    "        i += 1\n",
    "        "
   ]
  },
  {
   "cell_type": "code",
   "execution_count": 89,
   "metadata": {},
   "outputs": [],
   "source": [
    "start_month = datetime.strptime('201708', '%Y%m')\n",
    "end_month = datetime.strptime('201708', '%Y%m')\n",
    "\n",
    "today = datetime.today()\n",
    "date_prefix = today.strftime('%Y%m%d-%H%M%S')\n",
    "file_origin = 'crawl_' + date_prefix + '_Crawler.csv'\n",
    "\n",
    "my_file = Path(file_origin)\n",
    "isFirst = True\n",
    "\n",
    "if my_file.is_file():\n",
    "    mainDf = pd.read_csv(file_origin, index_col=0, header=0)\n",
    "    isFirst = False\n",
    "else:\n",
    "    mainDf = None\n",
    "    "
   ]
  },
  {
   "cell_type": "code",
   "execution_count": 90,
   "metadata": {},
   "outputs": [],
   "source": [
    "places = ['hakodate']\n",
    "\n",
    "sleep_time = 5"
   ]
  },
  {
   "cell_type": "code",
   "execution_count": 122,
   "metadata": {},
   "outputs": [
    {
     "name": "stdout",
     "output_type": "stream",
     "text": [
      "https://keirin.kdreams.jp/hakodate/schedule/2017/08\n",
      "https://keirin.kdreams.jp/hakodate/raceresult/11201707310100/\n",
      "https://keirin.kdreams.jp/hakodate/racedetail/1120170731010001/?pageType=KS_RACE_CARD_PAGE_TYPE_SHOW_RESULT\n",
      "https://keirin.kdreams.jp/hakodate/racedetail/1120170731010002/?pageType=KS_RACE_CARD_PAGE_TYPE_SHOW_RESULT\n",
      "https://keirin.kdreams.jp/hakodate/racedetail/1120170731010003/?pageType=KS_RACE_CARD_PAGE_TYPE_SHOW_RESULT\n",
      "https://keirin.kdreams.jp/hakodate/racedetail/1120170731010004/?pageType=KS_RACE_CARD_PAGE_TYPE_SHOW_RESULT\n",
      "https://keirin.kdreams.jp/hakodate/racedetail/1120170731010005/?pageType=KS_RACE_CARD_PAGE_TYPE_SHOW_RESULT\n",
      "https://keirin.kdreams.jp/hakodate/racedetail/1120170731010006/?pageType=KS_RACE_CARD_PAGE_TYPE_SHOW_RESULT\n",
      "https://keirin.kdreams.jp/hakodate/racedetail/1120170731010007/?pageType=KS_RACE_CARD_PAGE_TYPE_SHOW_RESULT\n",
      "https://keirin.kdreams.jp/hakodate/racedetail/1120170731010008/?pageType=KS_RACE_CARD_PAGE_TYPE_SHOW_RESULT\n",
      "https://keirin.kdreams.jp/hakodate/racedetail/1120170731010009/?pageType=KS_RACE_CARD_PAGE_TYPE_SHOW_RESULT\n",
      "https://keirin.kdreams.jp/hakodate/racedetail/1120170731010010/?pageType=KS_RACE_CARD_PAGE_TYPE_SHOW_RESULT\n",
      "https://keirin.kdreams.jp/hakodate/raceresult/11201708190100/\n",
      "https://keirin.kdreams.jp/hakodate/racedetail/1120170819010001/?pageType=KS_RACE_CARD_PAGE_TYPE_SHOW_RESULT\n",
      "https://keirin.kdreams.jp/hakodate/racedetail/1120170819010002/?pageType=KS_RACE_CARD_PAGE_TYPE_SHOW_RESULT\n",
      "https://keirin.kdreams.jp/hakodate/racedetail/1120170819010003/?pageType=KS_RACE_CARD_PAGE_TYPE_SHOW_RESULT\n",
      "https://keirin.kdreams.jp/hakodate/racedetail/1120170819010004/?pageType=KS_RACE_CARD_PAGE_TYPE_SHOW_RESULT\n",
      "https://keirin.kdreams.jp/hakodate/racedetail/1120170819010005/?pageType=KS_RACE_CARD_PAGE_TYPE_SHOW_RESULT\n",
      "https://keirin.kdreams.jp/hakodate/racedetail/1120170819010006/?pageType=KS_RACE_CARD_PAGE_TYPE_SHOW_RESULT\n",
      "https://keirin.kdreams.jp/hakodate/racedetail/1120170819010007/?pageType=KS_RACE_CARD_PAGE_TYPE_SHOW_RESULT\n",
      "https://keirin.kdreams.jp/hakodate/racedetail/1120170819010008/?pageType=KS_RACE_CARD_PAGE_TYPE_SHOW_RESULT\n",
      "https://keirin.kdreams.jp/hakodate/racedetail/1120170819010009/?pageType=KS_RACE_CARD_PAGE_TYPE_SHOW_RESULT\n",
      "https://keirin.kdreams.jp/hakodate/racedetail/1120170819010010/?pageType=KS_RACE_CARD_PAGE_TYPE_SHOW_RESULT\n",
      "https://keirin.kdreams.jp/hakodate/racedetail/1120170819010011/?pageType=KS_RACE_CARD_PAGE_TYPE_SHOW_RESULT\n",
      "https://keirin.kdreams.jp/hakodate/raceresult/11201708250100/\n",
      "https://keirin.kdreams.jp/hakodate/racedetail/1120170825010001/?pageType=KS_RACE_CARD_PAGE_TYPE_SHOW_RESULT\n",
      "https://keirin.kdreams.jp/hakodate/racedetail/1120170825010002/?pageType=KS_RACE_CARD_PAGE_TYPE_SHOW_RESULT\n",
      "https://keirin.kdreams.jp/hakodate/racedetail/1120170825010003/?pageType=KS_RACE_CARD_PAGE_TYPE_SHOW_RESULT\n",
      "https://keirin.kdreams.jp/hakodate/racedetail/1120170825010004/?pageType=KS_RACE_CARD_PAGE_TYPE_SHOW_RESULT\n",
      "https://keirin.kdreams.jp/hakodate/racedetail/1120170825010005/?pageType=KS_RACE_CARD_PAGE_TYPE_SHOW_RESULT\n",
      "https://keirin.kdreams.jp/hakodate/racedetail/1120170825010006/?pageType=KS_RACE_CARD_PAGE_TYPE_SHOW_RESULT\n",
      "https://keirin.kdreams.jp/hakodate/racedetail/1120170825010007/?pageType=KS_RACE_CARD_PAGE_TYPE_SHOW_RESULT\n",
      "https://keirin.kdreams.jp/hakodate/racedetail/1120170825010008/?pageType=KS_RACE_CARD_PAGE_TYPE_SHOW_RESULT\n",
      "https://keirin.kdreams.jp/hakodate/racedetail/1120170825010009/?pageType=KS_RACE_CARD_PAGE_TYPE_SHOW_RESULT\n",
      "https://keirin.kdreams.jp/hakodate/racedetail/1120170825010010/?pageType=KS_RACE_CARD_PAGE_TYPE_SHOW_RESULT\n",
      "https://keirin.kdreams.jp/hakodate/racedetail/1120170825010011/?pageType=KS_RACE_CARD_PAGE_TYPE_SHOW_RESULT\n",
      "https://keirin.kdreams.jp/hakodate/racedetail/1120170825010012/?pageType=KS_RACE_CARD_PAGE_TYPE_SHOW_RESULT\n"
     ]
    }
   ],
   "source": [
    "for target_month in month_span(start_month, end_month):\n",
    "    for place in places:\n",
    "        target_url = get_data_url(target_month, place)\n",
    "        print(target_url)\n",
    "        headers = {'User-Agent': 'Mozilla/5.0'}\n",
    "        time.sleep(sleep_time)\n",
    "        response = requests.get(target_url, headers=headers)# <Response [200]>\n",
    "        soup = BeautifulSoup(response.text, 'html.parser')\n",
    "        dokantos = soup.find_all(\"p\", class_=\"dokanto\")\n",
    "        for dokanto in dokantos:\n",
    "            url_raceresult = dokanto.a.get(\"href\")\n",
    "            print(url_raceresult)\n",
    "            response = requests.get(url_raceresult, headers=headers)\n",
    "            soup = BeautifulSoup(response.text, 'html.parser')\n",
    "            links = soup.find_all(\"p\", class_=\"race\")\n",
    "            for link in links:\n",
    "                print(link.a.get('href'))"
   ]
  },
  {
   "cell_type": "code",
   "execution_count": null,
   "metadata": {},
   "outputs": [],
   "source": []
  },
  {
   "cell_type": "code",
   "execution_count": null,
   "metadata": {},
   "outputs": [],
   "source": []
  },
  {
   "cell_type": "code",
   "execution_count": null,
   "metadata": {},
   "outputs": [],
   "source": []
  },
  {
   "cell_type": "code",
   "execution_count": 121,
   "metadata": {
    "scrolled": true
   },
   "outputs": [
    {
     "ename": "IndentationError",
     "evalue": "unexpected indent (<ipython-input-121-b3413e40a238>, line 2)",
     "output_type": "error",
     "traceback": [
      "\u001b[1;36m  File \u001b[1;32m\"<ipython-input-121-b3413e40a238>\"\u001b[1;36m, line \u001b[1;32m2\u001b[0m\n\u001b[1;33m    target_url = get_data_url(target_month.strftime('%Y%m'), pid, rno)\u001b[0m\n\u001b[1;37m    ^\u001b[0m\n\u001b[1;31mIndentationError\u001b[0m\u001b[1;31m:\u001b[0m unexpected indent\n"
     ]
    }
   ],
   "source": [
    "        \n",
    "            target_url = get_data_url(target_month.strftime('%Y%m'), pid, rno)\n",
    "            date = target_date.strftime('%Y%m%d')\n",
    "            headers = {'User-Agent': 'Mozilla/5.0'}\n",
    "            time.sleep(sleep_time)\n",
    "            response = requests.get(target_url, headers=headers)# <Response [200]>\n",
    "            soup = BeautifulSoup(response.text, 'html.parser')\n",
    "            content1 = soup.find_all(\"h1\", class_=\"h_content1\")\n",
    "            content2 = soup.find_all(\"div\", class_=\"blocks\")\n",
    "            content3 = soup.find_all(\"table\", id=\"detail_program\")\n",
    "            for content3_part in content3:\n",
    "                tds1 = [td.find_all(\"p\") for td in content3_part.find_all(\"td\", class_=\"border_all name_kanji\")]\n",
    "                ID = [row[0].string for row in tds1]\n",
    "                name = [row[1].string for row in tds1]\n",
    "                prefecture = [row[2].string.split(\"/\") for row in tds1]\n",
    "                age = [row[3].string.split(\"/\") for row in tds1]\n",
    "                ages = [row[0].replace('歳', '') for row in age]\n",
    "                term = [row[1].replace('期', '') for row in age]\n",
    "                prefectures = [row[0].replace('北海道', '1').replace('青森', '2').replace('岩手', '3').replace('宮城', '4').replace('秋田', '5').replace('山形', '6').replace('福島', '7').replace('茨城', '8').replace('栃木', '9').replace('群馬', '10').replace('埼玉', '11').replace('千葉', '12').replace('東京', '13').replace('神奈川', '14').replace('新潟', '15').replace('富山', '16').replace('石川', '17').replace('福井', '18').replace('山梨', '19').replace('長野', '20').replace('岐阜', '21').replace('静岡', '22').replace('愛知', '23').replace('三重', '24').replace('滋賀', '25').replace('京都', '26').replace('大阪', '27').replace('兵庫', '28').replace('奈良', '29').replace('和歌山', '30').replace('鳥取', '31').replace('島根', '32').replace('岡山', '33').replace('広島', '34').replace('山口', '35').replace('徳島', '36').replace('香川', '37').replace('愛媛', '38').replace('高知', '39').replace('福岡', '40').replace('佐賀', '41').replace('長崎', '42').replace('熊本', '43').replace('大分', '44').replace('宮崎', '45').replace('鹿児島', '46').replace('沖縄', '47') for row in prefecture]\n",
    "                rank = [row[1].replace('A1', '1').replace('A2', '2').replace('B1', '3').replace('B2', '4') for row in prefecture]\n",
    "                tds2 = [td.text for td in content3_part.find_all(\"td\", class_=\"border_all average\")[2:][::5]]\n",
    "                morter_num = [td[:-5] for td in tds2]\n",
    "                for content2_part in content2:\n",
    "                    race_number = [p.text.replace('【', '').replace('】', '').replace('予選', '').replace('R', '') for p in content2_part.find_all(\"p\", class_=\"left\")]\n",
    "                    for num in race_number:\n",
    "                        race_number = [num for i in range(6)]\n",
    "                        race_number = [num[:3] for num in race_number]\n",
    "                for content1_part in content1:\n",
    "                    race_place = [n[:3] for n in content1_part]\n",
    "                    race_place = race_place * 6\n",
    "                raceDict = pd.DataFrame({\"date\": date,                                         \n",
    "                                        \"ID\": ID,\n",
    "                                        \"name\": name,\n",
    "                                        \"age\": ages,\n",
    "                                        \"term\": term,\n",
    "                                        \"prefecture\": prefectures,\n",
    "                                        \"rank\": rank,\n",
    "                                        \"morter_num\": morter_num,\n",
    "                                        \"race_number\": race_number,\n",
    "                                        \"race_place\": race_place\n",
    "                                         })\n",
    "                print(raceDict)\n",
    "                # 取得した後、追加していく\n",
    "                if mainDf is None:\n",
    "                    raceDict.to_csv(file_origin)\n",
    "                    mainDf = raceDict\n",
    "                else:\n",
    "                    raceDict.to_csv(file_origin, mode='a', header=False)\n",
    "                    mainDf = mainDf.append(raceDict)\n",
    "                                    \n",
    "    print(\"Completed.\")"
   ]
  },
  {
   "cell_type": "code",
   "execution_count": null,
   "metadata": {},
   "outputs": [],
   "source": []
  },
  {
   "cell_type": "code",
   "execution_count": null,
   "metadata": {},
   "outputs": [],
   "source": []
  }
 ],
 "metadata": {
  "kernelspec": {
   "display_name": "Python 3",
   "language": "python",
   "name": "python3"
  },
  "language_info": {
   "codemirror_mode": {
    "name": "ipython",
    "version": 3
   },
   "file_extension": ".py",
   "mimetype": "text/x-python",
   "name": "python",
   "nbconvert_exporter": "python",
   "pygments_lexer": "ipython3",
   "version": "3.6.5"
  }
 },
 "nbformat": 4,
 "nbformat_minor": 2
}
